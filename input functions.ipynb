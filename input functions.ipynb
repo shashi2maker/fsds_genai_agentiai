{
 "cells": [
  {
   "cell_type": "code",
   "execution_count": null,
   "id": "993809ea-1170-4e33-9be3-096488501db4",
   "metadata": {},
   "outputs": [],
   "source": [
    "# input function"
   ]
  },
  {
   "cell_type": "code",
   "execution_count": 1,
   "id": "ec85e972-62fb-46a9-b5ab-4f45cd209076",
   "metadata": {},
   "outputs": [
    {
     "ename": "NameError",
     "evalue": "name 'sqrt' is not defined",
     "output_type": "error",
     "traceback": [
      "\u001b[1;31m---------------------------------------------------------------------------\u001b[0m",
      "\u001b[1;31mNameError\u001b[0m                                 Traceback (most recent call last)",
      "Cell \u001b[1;32mIn[1], line 1\u001b[0m\n\u001b[1;32m----> 1\u001b[0m x\u001b[38;5;241m=\u001b[39msqrt(\u001b[38;5;241m25\u001b[39m)\n",
      "\u001b[1;31mNameError\u001b[0m: name 'sqrt' is not defined"
     ]
    }
   ],
   "source": [
    "x=sqrt(25)# sqrt is inbuild function"
   ]
  },
  {
   "cell_type": "code",
   "execution_count": 2,
   "id": "62986116-cf3b-43bd-a4bb-26184559cb4a",
   "metadata": {},
   "outputs": [
    {
     "data": {
      "text/plain": [
       "5.0"
      ]
     },
     "execution_count": 2,
     "metadata": {},
     "output_type": "execute_result"
    }
   ],
   "source": [
    "import math # math is module \n",
    "x=math.sqrt(25)\n",
    "x"
   ]
  },
  {
   "cell_type": "code",
   "execution_count": 3,
   "id": "575fc7a4-1a3a-410a-8242-ae3376eb0dab",
   "metadata": {},
   "outputs": [
    {
     "data": {
      "text/plain": [
       "3.872983346207417"
      ]
     },
     "execution_count": 3,
     "metadata": {},
     "output_type": "execute_result"
    }
   ],
   "source": [
    "x1=math.sqrt(15)\n",
    "x1"
   ]
  },
  {
   "cell_type": "code",
   "execution_count": 4,
   "id": "fff8f5ee-cb3a-4872-acf1-9600d9236fb9",
   "metadata": {},
   "outputs": [
    {
     "data": {
      "text/plain": [
       "8.0"
      ]
     },
     "execution_count": 4,
     "metadata": {},
     "output_type": "execute_result"
    }
   ],
   "source": [
    "x2=math.sqrt(64)\n",
    "x2"
   ]
  },
  {
   "cell_type": "code",
   "execution_count": null,
   "id": "e5f01f63-56fc-47cd-9714-db9ee00a350b",
   "metadata": {},
   "outputs": [],
   "source": [
    "#floor and ceil"
   ]
  },
  {
   "cell_type": "code",
   "execution_count": 5,
   "id": "27be0a76-2cdf-4cbc-853e-3c46db608c1a",
   "metadata": {},
   "outputs": [
    {
     "name": "stdout",
     "output_type": "stream",
     "text": [
      "2\n"
     ]
    }
   ],
   "source": [
    "print(math.floor(2.9)) # floor "
   ]
  },
  {
   "cell_type": "code",
   "execution_count": 6,
   "id": "44a2b903-79e4-4cb1-a3e7-300c9cb729f3",
   "metadata": {},
   "outputs": [
    {
     "name": "stdout",
     "output_type": "stream",
     "text": [
      "4\n"
     ]
    }
   ],
   "source": [
    "print(math.floor(4.9)) # floor "
   ]
  },
  {
   "cell_type": "code",
   "execution_count": 7,
   "id": "e4c47bf0-65d3-461a-9ee2-fb06723911bc",
   "metadata": {},
   "outputs": [
    {
     "name": "stdout",
     "output_type": "stream",
     "text": [
      "5\n"
     ]
    }
   ],
   "source": [
    "print(math.ceil(4.9)) # ceil"
   ]
  },
  {
   "cell_type": "code",
   "execution_count": 8,
   "id": "bacc2180-2dff-41ce-b448-0f7cbf6de171",
   "metadata": {},
   "outputs": [
    {
     "name": "stdout",
     "output_type": "stream",
     "text": [
      "6\n"
     ]
    }
   ],
   "source": [
    "print(math.ceil(5.9)) # ceil"
   ]
  },
  {
   "cell_type": "code",
   "execution_count": 10,
   "id": "3f256903-a20d-4377-a48e-e770360237bd",
   "metadata": {},
   "outputs": [
    {
     "name": "stdout",
     "output_type": "stream",
     "text": [
      "4.0\n"
     ]
    }
   ],
   "source": [
    "print(math.pow(2,2))"
   ]
  },
  {
   "cell_type": "code",
   "execution_count": 11,
   "id": "4a54e8f5-90e4-4b7e-a3f2-212391259388",
   "metadata": {},
   "outputs": [
    {
     "name": "stdout",
     "output_type": "stream",
     "text": [
      "16.0\n"
     ]
    }
   ],
   "source": [
    "print(math.pow(4,2))"
   ]
  },
  {
   "cell_type": "code",
   "execution_count": 13,
   "id": "dc8d5636-7e73-42f4-8c42-f5ab68bb8628",
   "metadata": {},
   "outputs": [
    {
     "name": "stdout",
     "output_type": "stream",
     "text": [
      "3.141592653589793\n"
     ]
    }
   ],
   "source": [
    "print(math.pi)"
   ]
  },
  {
   "cell_type": "code",
   "execution_count": 14,
   "id": "9f54dda2-f0fd-40d6-9e52-b359d4dc9498",
   "metadata": {},
   "outputs": [
    {
     "name": "stdout",
     "output_type": "stream",
     "text": [
      "2.718281828459045\n"
     ]
    }
   ],
   "source": [
    "print(math.e)# ~epsilon value"
   ]
  },
  {
   "cell_type": "code",
   "execution_count": 15,
   "id": "06e4c4c3-2e23-408a-aaef-300d4e506310",
   "metadata": {},
   "outputs": [
    {
     "ename": "NameError",
     "evalue": "name 'm' is not defined",
     "output_type": "error",
     "traceback": [
      "\u001b[1;31m---------------------------------------------------------------------------\u001b[0m",
      "\u001b[1;31mNameError\u001b[0m                                 Traceback (most recent call last)",
      "Cell \u001b[1;32mIn[15], line 1\u001b[0m\n\u001b[1;32m----> 1\u001b[0m m\u001b[38;5;241m.\u001b[39msqrt(\u001b[38;5;241m25\u001b[39m)\n",
      "\u001b[1;31mNameError\u001b[0m: name 'm' is not defined"
     ]
    }
   ],
   "source": [
    "m.sqrt(25)"
   ]
  },
  {
   "cell_type": "code",
   "execution_count": 16,
   "id": "2c0754a6-c805-42a4-992e-6ec39399c477",
   "metadata": {},
   "outputs": [
    {
     "data": {
      "text/plain": [
       "3.1622776601683795"
      ]
     },
     "execution_count": 16,
     "metadata": {},
     "output_type": "execute_result"
    }
   ],
   "source": [
    "import math as m\n",
    "m.sqrt(10)"
   ]
  },
  {
   "cell_type": "code",
   "execution_count": 17,
   "id": "1e02a3a9-8835-4874-9f7c-3094aa4528ad",
   "metadata": {},
   "outputs": [
    {
     "name": "stdout",
     "output_type": "stream",
     "text": [
      "8.0\n",
      "3.1622776601683795\n"
     ]
    }
   ],
   "source": [
    "from math import sqrt ,pow\n",
    "print(pow(2,3))\n",
    "print(m.sqrt(10))"
   ]
  },
  {
   "cell_type": "code",
   "execution_count": 18,
   "id": "fc946403-885f-4db0-8c73-55c4da04aad6",
   "metadata": {},
   "outputs": [
    {
     "name": "stdout",
     "output_type": "stream",
     "text": [
      "9.0\n",
      "8.0\n",
      "4\n",
      "5\n",
      "3.141592653589793\n"
     ]
    }
   ],
   "source": [
    "from math import sqrt,pow,floor,ceil,pi\n",
    "print(pow(3,2))\n",
    "print(m.sqrt(64))\n",
    "print(m.floor(4.5))\n",
    "print(m.ceil(4.5))\n",
    "print(m.pi)"
   ]
  },
  {
   "cell_type": "code",
   "execution_count": null,
   "id": "184c05af-5ddf-45f3-895c-59d22d8bc148",
   "metadata": {},
   "outputs": [],
   "source": []
  },
  {
   "cell_type": "markdown",
   "id": "6e04c56c-9d28-44b6-8a99-8257d1d65aed",
   "metadata": {},
   "source": [
    "# input function"
   ]
  },
  {
   "cell_type": "code",
   "execution_count": 19,
   "id": "40b51fba-2f0f-4e1c-a42b-f2634627b6c7",
   "metadata": {},
   "outputs": [
    {
     "name": "stdin",
     "output_type": "stream",
     "text": [
      " 4 \n"
     ]
    },
    {
     "data": {
      "text/plain": [
       "'4 '"
      ]
     },
     "execution_count": 19,
     "metadata": {},
     "output_type": "execute_result"
    }
   ],
   "source": [
    "x= input()\n",
    "x"
   ]
  },
  {
   "cell_type": "code",
   "execution_count": 36,
   "id": "fba7c6b4-325a-4879-97ea-6b1284aa86c9",
   "metadata": {},
   "outputs": [
    {
     "name": "stdin",
     "output_type": "stream",
     "text": [
      " 4\n",
      " 4\n"
     ]
    }
   ],
   "source": [
    "x=input()\n",
    "y=input()\n",
    "z=x+y\n"
   ]
  },
  {
   "cell_type": "code",
   "execution_count": 27,
   "id": "9d387427-aac7-4f42-996d-634fe756c45f",
   "metadata": {},
   "outputs": [
    {
     "data": {
      "text/plain": [
       "str"
      ]
     },
     "execution_count": 27,
     "metadata": {},
     "output_type": "execute_result"
    }
   ],
   "source": [
    "type(y)"
   ]
  },
  {
   "cell_type": "code",
   "execution_count": 28,
   "id": "fcf25c99-564f-4e97-b1a0-25c0f9153174",
   "metadata": {},
   "outputs": [
    {
     "data": {
      "text/plain": [
       "str"
      ]
     },
     "execution_count": 28,
     "metadata": {},
     "output_type": "execute_result"
    }
   ],
   "source": [
    "type(x)"
   ]
  },
  {
   "cell_type": "code",
   "execution_count": 29,
   "id": "7ec0e539-fcf7-46f8-829a-1d6133d61474",
   "metadata": {},
   "outputs": [
    {
     "name": "stdin",
     "output_type": "stream",
     "text": [
      "nit nit\n",
      "nit nit\n"
     ]
    },
    {
     "name": "stdout",
     "output_type": "stream",
     "text": [
      "nitnit\n"
     ]
    }
   ],
   "source": [
    "x1=input(\"nit\")\n",
    "y1=input(\"nit\")\n",
    "z1=x1+y1\n",
    "print(z1)"
   ]
  },
  {
   "cell_type": "code",
   "execution_count": 30,
   "id": "807a3bf8-170a-4c1d-a55e-60b3a86c329f",
   "metadata": {},
   "outputs": [
    {
     "name": "stdin",
     "output_type": "stream",
     "text": [
      "user name: nit\n",
      "passwordt: nit\n"
     ]
    },
    {
     "name": "stdout",
     "output_type": "stream",
     "text": [
      "nitnit\n"
     ]
    }
   ],
   "source": [
    "x1=input(\"user name:\")\n",
    "y1=input(\"passwordt:\")\n",
    "z1=x1+y1\n",
    "print(z1)"
   ]
  },
  {
   "cell_type": "code",
   "execution_count": 31,
   "id": "cec9f49d-db7d-407a-90b5-7e11061be95e",
   "metadata": {},
   "outputs": [
    {
     "name": "stdin",
     "output_type": "stream",
     "text": [
      "4 4\n",
      "4 4\n"
     ]
    },
    {
     "name": "stdout",
     "output_type": "stream",
     "text": [
      "44\n"
     ]
    }
   ],
   "source": [
    "x1=input(\"4\")\n",
    "a1=int(x1)\n",
    "y1=input(\"4\")\n",
    "b1=int(y1)\n",
    "z1=x1+y1\n",
    "print(z1)"
   ]
  },
  {
   "cell_type": "code",
   "execution_count": 32,
   "id": "cfed1f45-61a6-4eb8-9027-190767934045",
   "metadata": {},
   "outputs": [
    {
     "name": "stdin",
     "output_type": "stream",
     "text": [
      " 4\n",
      " 4\n"
     ]
    },
    {
     "name": "stdout",
     "output_type": "stream",
     "text": [
      "44\n"
     ]
    }
   ],
   "source": [
    "x1=input(\"\")\n",
    "a1=int(x1)\n",
    "y1=input(\"\")\n",
    "b1=int(y1)\n",
    "z1=x1+y1\n",
    "print(z1)"
   ]
  },
  {
   "cell_type": "code",
   "execution_count": 34,
   "id": "baa5c4c8-a709-40ad-b0b7-684689ce45e0",
   "metadata": {},
   "outputs": [
    {
     "name": "stdin",
     "output_type": "stream",
     "text": [
      " 4\n",
      " 4\n"
     ]
    },
    {
     "name": "stdout",
     "output_type": "stream",
     "text": [
      "8\n"
     ]
    }
   ],
   "source": [
    "x1=input(\"\")\n",
    "a1=int(x1)\n",
    "y1=input(\"\")\n",
    "b1=int(y1)\n",
    "z1=a1+b1\n",
    "print(z1)"
   ]
  },
  {
   "cell_type": "code",
   "execution_count": 35,
   "id": "5da64d1b-c942-4e97-97e1-de15ccf08b1c",
   "metadata": {},
   "outputs": [
    {
     "name": "stdin",
     "output_type": "stream",
     "text": [
      "enter the 1st num 40\n",
      "enter the 2nd num 60\n"
     ]
    },
    {
     "data": {
      "text/plain": [
       "100"
      ]
     },
     "execution_count": 35,
     "metadata": {},
     "output_type": "execute_result"
    }
   ],
   "source": [
    "x2=int(input('enter the 1st num'))\n",
    "y2=int(input('enter the 2nd num'))\n",
    "z2=x2+y2\n",
    "z2"
   ]
  },
  {
   "cell_type": "code",
   "execution_count": 37,
   "id": "abf9c60c-354e-40c4-b9e0-555c9089344f",
   "metadata": {},
   "outputs": [
    {
     "name": "stdin",
     "output_type": "stream",
     "text": [
      "enter a string hello\n"
     ]
    },
    {
     "name": "stdout",
     "output_type": "stream",
     "text": [
      "hello\n"
     ]
    }
   ],
   "source": [
    "st=input('enter a string')\n",
    "print(st)"
   ]
  },
  {
   "cell_type": "code",
   "execution_count": 38,
   "id": "296c83d8-3849-49a1-b4e5-e94a809ddbcf",
   "metadata": {},
   "outputs": [
    {
     "name": "stdout",
     "output_type": "stream",
     "text": [
      "h\n"
     ]
    }
   ],
   "source": [
    "print(st[0])"
   ]
  },
  {
   "cell_type": "code",
   "execution_count": 39,
   "id": "d02b7299-dd02-4b03-a452-a1475ff46116",
   "metadata": {},
   "outputs": [
    {
     "name": "stdout",
     "output_type": "stream",
     "text": [
      "e\n"
     ]
    }
   ],
   "source": [
    "print(st[1])"
   ]
  },
  {
   "cell_type": "code",
   "execution_count": 40,
   "id": "22c3f3c3-743b-4bb6-bbc1-585e43947329",
   "metadata": {},
   "outputs": [
    {
     "name": "stdout",
     "output_type": "stream",
     "text": [
      "o\n"
     ]
    }
   ],
   "source": [
    "print(st[-1])"
   ]
  },
  {
   "cell_type": "code",
   "execution_count": 41,
   "id": "3d0e99f3-4608-4b3f-a61b-d7144a99e415",
   "metadata": {},
   "outputs": [
    {
     "name": "stdin",
     "output_type": "stream",
     "text": [
      " shashi\n"
     ]
    },
    {
     "name": "stdout",
     "output_type": "stream",
     "text": [
      "s\n"
     ]
    }
   ],
   "source": [
    "print(st[0])"
   ]
  },
  {
   "cell_type": "code",
   "execution_count": 42,
   "id": "3532b720-d894-4081-8bf5-1fc84437800f",
   "metadata": {},
   "outputs": [
    {
     "name": "stdin",
     "output_type": "stream",
     "text": [
      "enter a string shashi\n"
     ]
    },
    {
     "name": "stdout",
     "output_type": "stream",
     "text": [
      "s\n"
     ]
    }
   ],
   "source": [
    "st=input('enter a string')[0]\n",
    "print(st)"
   ]
  },
  {
   "cell_type": "code",
   "execution_count": 43,
   "id": "32560c32-06ce-43d8-b5eb-243c7f2ccc9e",
   "metadata": {},
   "outputs": [
    {
     "name": "stdin",
     "output_type": "stream",
     "text": [
      "enter a string kondaiah\n"
     ]
    },
    {
     "name": "stdout",
     "output_type": "stream",
     "text": [
      "nda\n"
     ]
    }
   ],
   "source": [
    "st=input('enter a string')[2:5]\n",
    "print(st)"
   ]
  },
  {
   "cell_type": "code",
   "execution_count": 44,
   "id": "f02421f2-74fb-4c59-a3c1-fe6b1ba6b4dd",
   "metadata": {},
   "outputs": [
    {
     "name": "stdin",
     "output_type": "stream",
     "text": [
      "enter a string 2+6-3*2\n"
     ]
    },
    {
     "name": "stdout",
     "output_type": "stream",
     "text": [
      "2+6-3*2\n"
     ]
    }
   ],
   "source": [
    "st=input('enter a string')\n",
    "print(st)"
   ]
  },
  {
   "cell_type": "code",
   "execution_count": 45,
   "id": "a3d132e9-3874-43c9-9a78-aad14cd68bc4",
   "metadata": {},
   "outputs": [
    {
     "name": "stdin",
     "output_type": "stream",
     "text": [
      "enter a string 2+6-3*2\n"
     ]
    },
    {
     "name": "stdout",
     "output_type": "stream",
     "text": [
      "2+6-3*2\n"
     ]
    }
   ],
   "source": [
    "result=input('enter a string')\n",
    "print(result)\n"
   ]
  },
  {
   "cell_type": "code",
   "execution_count": 46,
   "id": "ca4f905a-2623-46ee-9450-2cc6d5080997",
   "metadata": {},
   "outputs": [
    {
     "name": "stdin",
     "output_type": "stream",
     "text": [
      "enter a string 2+6-3*2\n"
     ]
    },
    {
     "name": "stdout",
     "output_type": "stream",
     "text": [
      "2\n"
     ]
    }
   ],
   "source": [
    "result=eval(input('enter a string'))\n",
    "print(result)"
   ]
  },
  {
   "cell_type": "code",
   "execution_count": 47,
   "id": "e6b071ee-cbf2-4f91-a6d4-541bba949c6d",
   "metadata": {},
   "outputs": [
    {
     "name": "stdin",
     "output_type": "stream",
     "text": [
      "enter a string 10*10-3\n"
     ]
    },
    {
     "name": "stdout",
     "output_type": "stream",
     "text": [
      "97\n"
     ]
    }
   ],
   "source": [
    "result=eval(input('enter a string'))\n",
    "print(result)"
   ]
  },
  {
   "cell_type": "code",
   "execution_count": 48,
   "id": "1042ccca-8468-49a6-b6d6-1782165e8131",
   "metadata": {},
   "outputs": [
    {
     "name": "stdin",
     "output_type": "stream",
     "text": [
      "enter a string 3*5-4\n"
     ]
    },
    {
     "name": "stdout",
     "output_type": "stream",
     "text": [
      "11\n"
     ]
    }
   ],
   "source": [
    "result=eval(input('enter a string'))\n",
    "print(result)"
   ]
  },
  {
   "cell_type": "code",
   "execution_count": 49,
   "id": "6b94e7a7-c5f8-4a56-b803-65058dca34e1",
   "metadata": {},
   "outputs": [
    {
     "name": "stdin",
     "output_type": "stream",
     "text": [
      "enter a string 5+6-6*2\n"
     ]
    },
    {
     "name": "stdout",
     "output_type": "stream",
     "text": [
      "-1\n"
     ]
    }
   ],
   "source": [
    "result=eval(input('enter a string'))\n",
    "print(result)"
   ]
  },
  {
   "cell_type": "code",
   "execution_count": 50,
   "id": "2b6f96a9-2405-42a8-b76b-8f793dd10fe8",
   "metadata": {},
   "outputs": [
    {
     "name": "stdin",
     "output_type": "stream",
     "text": [
      "enter a string 5-6+3*4\n"
     ]
    },
    {
     "name": "stdout",
     "output_type": "stream",
     "text": [
      "11\n"
     ]
    }
   ],
   "source": [
    "result=eval(input('enter a string'))\n",
    "print(result)"
   ]
  },
  {
   "cell_type": "code",
   "execution_count": null,
   "id": "eb8382bb-f73a-4c8f-8d26-610a312dc9e8",
   "metadata": {},
   "outputs": [],
   "source": []
  }
 ],
 "metadata": {
  "kernelspec": {
   "display_name": "Python [conda env:base] *",
   "language": "python",
   "name": "conda-base-py"
  },
  "language_info": {
   "codemirror_mode": {
    "name": "ipython",
    "version": 3
   },
   "file_extension": ".py",
   "mimetype": "text/x-python",
   "name": "python",
   "nbconvert_exporter": "python",
   "pygments_lexer": "ipython3",
   "version": "3.12.7"
  }
 },
 "nbformat": 4,
 "nbformat_minor": 5
}
