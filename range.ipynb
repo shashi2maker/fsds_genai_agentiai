{
 "cells": [
  {
   "cell_type": "markdown",
   "id": "6f33192f-0dce-4c5b-b1fb-2adfe8245209",
   "metadata": {},
   "source": [
    "#RANGE"
   ]
  },
  {
   "cell_type": "code",
   "execution_count": 2,
   "id": "928bf046-f3c4-4932-8aea-c97c687571d5",
   "metadata": {},
   "outputs": [
    {
     "data": {
      "text/plain": [
       "range(0, 10)"
      ]
     },
     "execution_count": 2,
     "metadata": {},
     "output_type": "execute_result"
    }
   ],
   "source": [
    "range(0,10)\n"
   ]
  },
  {
   "cell_type": "code",
   "execution_count": 3,
   "id": "f2186c75-4402-43d0-b7d7-42ee329f0020",
   "metadata": {},
   "outputs": [
    {
     "data": {
      "text/plain": [
       "[0, 1, 2, 3, 4, 5, 6, 7, 8, 9]"
      ]
     },
     "execution_count": 3,
     "metadata": {},
     "output_type": "execute_result"
    }
   ],
   "source": [
    "list(range(0,10))"
   ]
  },
  {
   "cell_type": "code",
   "execution_count": 4,
   "id": "12089578-7e40-4c1d-be32-fc591ff0c6b7",
   "metadata": {},
   "outputs": [],
   "source": [
    "r=range(10)"
   ]
  },
  {
   "cell_type": "code",
   "execution_count": 5,
   "id": "085530bb-db84-43f9-b33d-9f25c9d35289",
   "metadata": {},
   "outputs": [
    {
     "data": {
      "text/plain": [
       "[10, 11, 12, 13, 14, 15, 16, 17, 18, 19]"
      ]
     },
     "execution_count": 5,
     "metadata": {},
     "output_type": "execute_result"
    }
   ],
   "source": [
    "list(range(10,20))"
   ]
  },
  {
   "cell_type": "code",
   "execution_count": 6,
   "id": "b6bc6a2d-074e-4c3b-9bb0-8039e0377274",
   "metadata": {},
   "outputs": [
    {
     "name": "stdout",
     "output_type": "stream",
     "text": [
      "0\n",
      "1\n",
      "2\n",
      "3\n",
      "4\n",
      "5\n",
      "6\n",
      "7\n",
      "8\n",
      "9\n"
     ]
    }
   ],
   "source": [
    "for i in r:\n",
    "    print(i)"
   ]
  },
  {
   "cell_type": "code",
   "execution_count": 7,
   "id": "f6c18170-c6da-4bc3-9415-ef010418a012",
   "metadata": {},
   "outputs": [
    {
     "data": {
      "text/plain": [
       "[10, 15, 20, 25, 30, 35, 40, 45, 50, 55, 60, 65, 70, 75, 80, 85, 90, 95]"
      ]
     },
     "execution_count": 7,
     "metadata": {},
     "output_type": "execute_result"
    }
   ],
   "source": [
    "list(range(10,100,5))"
   ]
  },
  {
   "cell_type": "code",
   "execution_count": 8,
   "id": "8489da67-f883-4221-b491-5d6913ca3437",
   "metadata": {},
   "outputs": [
    {
     "data": {
      "text/plain": [
       "[0, 1, 2, 3, 4, 5, 6, 7, 8, 9]"
      ]
     },
     "execution_count": 8,
     "metadata": {},
     "output_type": "execute_result"
    }
   ],
   "source": [
    "list(r)"
   ]
  },
  {
   "cell_type": "code",
   "execution_count": 9,
   "id": "813309aa-6b7b-4bf7-ac19-733291d5fab9",
   "metadata": {},
   "outputs": [
    {
     "data": {
      "text/plain": [
       "range(10, 50, 7)"
      ]
     },
     "execution_count": 9,
     "metadata": {},
     "output_type": "execute_result"
    }
   ],
   "source": [
    "r1=range(10,50,7)\n",
    "r1"
   ]
  },
  {
   "cell_type": "code",
   "execution_count": 11,
   "id": "c1e4029f-16d8-4e71-b433-8f742f6ba5e3",
   "metadata": {},
   "outputs": [
    {
     "name": "stdout",
     "output_type": "stream",
     "text": [
      "10\n",
      "17\n",
      "24\n",
      "31\n",
      "38\n",
      "45\n"
     ]
    }
   ],
   "source": [
    "for i in r1:\n",
    "    print(i)"
   ]
  },
  {
   "cell_type": "code",
   "execution_count": 13,
   "id": "89e9c5ba-8b2e-4480-8d54-eddb0ae4bfb4",
   "metadata": {},
   "outputs": [
    {
     "ename": "TypeError",
     "evalue": "'range' object is not callable",
     "output_type": "error",
     "traceback": [
      "\u001b[1;31m---------------------------------------------------------------------------\u001b[0m",
      "\u001b[1;31mTypeError\u001b[0m                                 Traceback (most recent call last)",
      "Cell \u001b[1;32mIn[13], line 1\u001b[0m\n\u001b[1;32m----> 1\u001b[0m r1(\u001b[38;5;241m5\u001b[39m)\n",
      "\u001b[1;31mTypeError\u001b[0m: 'range' object is not callable"
     ]
    }
   ],
   "source": [
    "r1(5)"
   ]
  },
  {
   "cell_type": "code",
   "execution_count": 14,
   "id": "5908c37b-5382-4c63-9b8f-338fc84938d3",
   "metadata": {},
   "outputs": [
    {
     "data": {
      "text/plain": [
       "[20, 30, 40, 50, 60, 70, 80, 90, 100, 110, 120]"
      ]
     },
     "execution_count": 14,
     "metadata": {},
     "output_type": "execute_result"
    }
   ],
   "source": [
    "list(range(20,130,10))"
   ]
  },
  {
   "cell_type": "code",
   "execution_count": 17,
   "id": "229e549b-7218-45c3-a23d-7e7cfccef80d",
   "metadata": {},
   "outputs": [
    {
     "name": "stdout",
     "output_type": "stream",
     "text": [
      "(0, 20)\n",
      "(1, 30)\n",
      "(2, 40)\n",
      "(3, 50)\n",
      "(4, 60)\n",
      "(5, 70)\n",
      "(6, 80)\n",
      "(7, 90)\n",
      "(8, 100)\n",
      "(9, 110)\n",
      "(10, 120)\n"
     ]
    }
   ],
   "source": [
    "for i in enumerate(range(20,130,10)):\n",
    "       print(i)"
   ]
  },
  {
   "cell_type": "code",
   "execution_count": null,
   "id": "ed09bcff-cc86-416b-b236-eeb2aab09ef8",
   "metadata": {},
   "outputs": [],
   "source": [
    "list(range(30)"
   ]
  },
  {
   "cell_type": "code",
   "execution_count": null,
   "id": "79c941a6-6adb-45f8-9a2a-98f6729e690f",
   "metadata": {},
   "outputs": [],
   "source": []
  },
  {
   "cell_type": "code",
   "execution_count": null,
   "id": "e891de21-be45-49ae-8528-65372bd5eebe",
   "metadata": {},
   "outputs": [],
   "source": []
  },
  {
   "cell_type": "code",
   "execution_count": null,
   "id": "75b6fab4-a34c-42e8-999f-3d398d1ca38d",
   "metadata": {},
   "outputs": [],
   "source": []
  }
 ],
 "metadata": {
  "kernelspec": {
   "display_name": "Python [conda env:base] *",
   "language": "python",
   "name": "conda-base-py"
  },
  "language_info": {
   "codemirror_mode": {
    "name": "ipython",
    "version": 3
   },
   "file_extension": ".py",
   "mimetype": "text/x-python",
   "name": "python",
   "nbconvert_exporter": "python",
   "pygments_lexer": "ipython3",
   "version": "3.12.7"
  }
 },
 "nbformat": 4,
 "nbformat_minor": 5
}
