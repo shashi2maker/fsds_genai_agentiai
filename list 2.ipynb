{
 "cells": [
  {
   "cell_type": "code",
   "execution_count": null,
   "id": "5e76c4de-e28b-4242-8147-951030d3ad2e",
   "metadata": {},
   "outputs": [],
   "source": [
    "# list "
   ]
  },
  {
   "cell_type": "code",
   "execution_count": 1,
   "id": "68a9b43d-58c1-4cd8-a029-f9b9d9563ad3",
   "metadata": {},
   "outputs": [
    {
     "data": {
      "text/plain": [
       "['shashi', 69, 6.9]"
      ]
     },
     "execution_count": 1,
     "metadata": {},
     "output_type": "execute_result"
    }
   ],
   "source": [
    "l=['shashi',69,6.9]\n",
    "l"
   ]
  },
  {
   "cell_type": "code",
   "execution_count": 3,
   "id": "9758ab76-78b8-4fc9-93cb-831a7440df75",
   "metadata": {},
   "outputs": [
    {
     "name": "stdout",
     "output_type": "stream",
     "text": [
      "['shashi', 69, 6.9]\n",
      "3\n",
      "69\n"
     ]
    }
   ],
   "source": [
    "print(l)\n",
    "print(len(l))\n",
    "print(l[1])"
   ]
  },
  {
   "cell_type": "code",
   "execution_count": null,
   "id": "46a66bb1-54bf-44d0-994f-cc45367f780d",
   "metadata": {},
   "outputs": [],
   "source": []
  },
  {
   "cell_type": "code",
   "execution_count": null,
   "id": "c68d0429-a063-4791-9ac2-afc8d84d7187",
   "metadata": {},
   "outputs": [],
   "source": []
  },
  {
   "cell_type": "code",
   "execution_count": null,
   "id": "e6401b3b-782b-472f-86ee-02793e1d67f7",
   "metadata": {},
   "outputs": [],
   "source": [
    "#append()"
   ]
  },
  {
   "cell_type": "code",
   "execution_count": 4,
   "id": "3a8236ac-00e1-40fe-9c31-c49832440a7c",
   "metadata": {},
   "outputs": [
    {
     "data": {
      "text/plain": [
       "['shashi', 69, 6.9, 'hakeem']"
      ]
     },
     "execution_count": 4,
     "metadata": {},
     "output_type": "execute_result"
    }
   ],
   "source": [
    "l1=['shashi',69,6.9,'hakeem']\n",
    "l1"
   ]
  },
  {
   "cell_type": "code",
   "execution_count": 5,
   "id": "6baafac0-bcb7-4d99-9c25-09913c408218",
   "metadata": {},
   "outputs": [
    {
     "name": "stdout",
     "output_type": "stream",
     "text": [
      "['shashi', 69, 6.9, 'hakeem', 'ajay']\n"
     ]
    }
   ],
   "source": [
    "l1.append('ajay')\n",
    "print(l1)"
   ]
  },
  {
   "cell_type": "code",
   "execution_count": null,
   "id": "ccae1318-a2a6-4094-a98f-a51e872395e3",
   "metadata": {},
   "outputs": [],
   "source": [
    "#pop ()"
   ]
  },
  {
   "cell_type": "code",
   "execution_count": 6,
   "id": "1ef102d4-7606-46d5-bdbe-72d555219bd2",
   "metadata": {},
   "outputs": [
    {
     "data": {
      "text/plain": [
       "['shashi', 69, 6.9, 45]"
      ]
     },
     "execution_count": 6,
     "metadata": {},
     "output_type": "execute_result"
    }
   ],
   "source": [
    "l2=['shashi',69,6.9,45]\n",
    "l2"
   ]
  },
  {
   "cell_type": "code",
   "execution_count": 7,
   "id": "371bdd6c-be99-471f-9840-b47a34785504",
   "metadata": {},
   "outputs": [
    {
     "name": "stdout",
     "output_type": "stream",
     "text": [
      "['shashi', 69, 6.9]\n"
     ]
    }
   ],
   "source": [
    "l2.pop()\n",
    "print(l2)"
   ]
  },
  {
   "cell_type": "code",
   "execution_count": null,
   "id": "17aae221-5bba-47d4-94db-36f73268e904",
   "metadata": {},
   "outputs": [],
   "source": [
    "# extend()"
   ]
  },
  {
   "cell_type": "code",
   "execution_count": 8,
   "id": "c12884e6-24f7-4a46-a359-d54b11fae84c",
   "metadata": {},
   "outputs": [
    {
     "data": {
      "text/plain": [
       "['shashi', 69, 6.9]"
      ]
     },
     "execution_count": 8,
     "metadata": {},
     "output_type": "execute_result"
    }
   ],
   "source": [
    "l3=['shashi',69,6.9]\n",
    "l3"
   ]
  },
  {
   "cell_type": "code",
   "execution_count": 9,
   "id": "f1e3064f-e5b2-42b7-8844-3af634fdeb6b",
   "metadata": {},
   "outputs": [
    {
     "name": "stdout",
     "output_type": "stream",
     "text": [
      "['shashi', 69, 6.9, 'a', 'j', 'a', 'y']\n"
     ]
    }
   ],
   "source": [
    "l3.extend('ajay')\n",
    "print(l3)"
   ]
  },
  {
   "cell_type": "code",
   "execution_count": 10,
   "id": "852d0471-db4f-494c-9a8c-0d266b7caba4",
   "metadata": {},
   "outputs": [
    {
     "name": "stdout",
     "output_type": "stream",
     "text": [
      "['shashi', 69, 6.9, 'a', 'j', 'a', 'y', 'ajay']\n"
     ]
    }
   ],
   "source": [
    "l3.extend(['ajay'])\n",
    "print(l3)"
   ]
  },
  {
   "cell_type": "code",
   "execution_count": null,
   "id": "ca6d9ab9-a66b-42c9-9119-f3037e10ed2c",
   "metadata": {},
   "outputs": [],
   "source": [
    "#remove()"
   ]
  },
  {
   "cell_type": "code",
   "execution_count": 11,
   "id": "1eb25f9d-1932-4a18-8fc2-8b1dc701de9f",
   "metadata": {},
   "outputs": [
    {
     "name": "stdout",
     "output_type": "stream",
     "text": [
      "['shashi', 6.9]\n"
     ]
    }
   ],
   "source": [
    "l4=['shashi',69,6.9]\n",
    "l4.remove(69)\n",
    "print(l4)"
   ]
  },
  {
   "cell_type": "code",
   "execution_count": null,
   "id": "b68ed599-d01e-4857-b9f1-aae3a698fc2a",
   "metadata": {},
   "outputs": [],
   "source": [
    "#insert()"
   ]
  },
  {
   "cell_type": "code",
   "execution_count": 12,
   "id": "d8158f54-e9d2-4046-b82d-a8e80d09f650",
   "metadata": {},
   "outputs": [
    {
     "name": "stdout",
     "output_type": "stream",
     "text": [
      "['shashi', 69, 5, 6.9]\n"
     ]
    }
   ],
   "source": [
    "l5=['shashi',69,6.9]\n",
    "l5.insert(2,5)\n",
    "print(l5)"
   ]
  },
  {
   "cell_type": "code",
   "execution_count": null,
   "id": "39126bc8-622f-4c5c-a61d-cd5c88117462",
   "metadata": {},
   "outputs": [],
   "source": [
    "#reverse()"
   ]
  },
  {
   "cell_type": "code",
   "execution_count": 13,
   "id": "9f598593-608f-48fe-8a31-8fbe78842d6b",
   "metadata": {},
   "outputs": [
    {
     "name": "stdout",
     "output_type": "stream",
     "text": [
      "['ajay', 'hakeem', 6.9, 69, 'shashi']\n"
     ]
    }
   ],
   "source": [
    "l6=['shashi',69,6.9,'hakeem','ajay']\n",
    "l6.reverse()\n",
    "print(l6)"
   ]
  },
  {
   "cell_type": "code",
   "execution_count": null,
   "id": "a31fddcb-b3d3-4cf0-8afc-079617c7bf93",
   "metadata": {},
   "outputs": [],
   "source": [
    "#loop in lists"
   ]
  },
  {
   "cell_type": "code",
   "execution_count": 18,
   "id": "d8070ac3-f688-4e88-8422-546ab3827b21",
   "metadata": {},
   "outputs": [
    {
     "name": "stdout",
     "output_type": "stream",
     "text": [
      "['shashi', 69, 6.9, True, (1+2j)]\n"
     ]
    }
   ],
   "source": [
    "list_data=['shashi',69,6.9,True,(1+2j)]\n",
    "print(list_data)"
   ]
  },
  {
   "cell_type": "code",
   "execution_count": null,
   "id": "855f1d72-e7d9-4e5f-a449-757712906e9b",
   "metadata": {},
   "outputs": [],
   "source": [
    "#nested list"
   ]
  },
  {
   "cell_type": "code",
   "execution_count": 26,
   "id": "d3b81c42-1daa-4ed4-afae-181e58a3ffa6",
   "metadata": {},
   "outputs": [
    {
     "name": "stdout",
     "output_type": "stream",
     "text": [
      "shashi , hi , hakeem\n"
     ]
    },
    {
     "ename": "TypeError",
     "evalue": "list[2] is not a generic class",
     "output_type": "error",
     "traceback": [
      "\u001b[1;31m---------------------------------------------------------------------------\u001b[0m",
      "\u001b[1;31mTypeError\u001b[0m                                 Traceback (most recent call last)",
      "Cell \u001b[1;32mIn[26], line 3\u001b[0m\n\u001b[0;32m      1\u001b[0m list1\u001b[38;5;241m=\u001b[39m[\u001b[38;5;124m'\u001b[39m\u001b[38;5;124mshashi\u001b[39m\u001b[38;5;124m'\u001b[39m,\u001b[38;5;241m69\u001b[39m,[\u001b[38;5;241m56\u001b[39m,\u001b[38;5;124m'\u001b[39m\u001b[38;5;124mhi\u001b[39m\u001b[38;5;124m'\u001b[39m,(\u001b[38;5;241m3\u001b[39m\u001b[38;5;241m+\u001b[39m\u001b[38;5;241m4\u001b[39mj),[\u001b[38;5;124m'\u001b[39m\u001b[38;5;124mhakeem\u001b[39m\u001b[38;5;124m'\u001b[39m,\u001b[38;5;241m2.5\u001b[39m,\u001b[38;5;241m5\u001b[39m,\u001b[38;5;241m6\u001b[39m]]]\n\u001b[0;32m      2\u001b[0m \u001b[38;5;28mprint\u001b[39m(list1[\u001b[38;5;241m0\u001b[39m],\u001b[38;5;124m'\u001b[39m\u001b[38;5;124m,\u001b[39m\u001b[38;5;124m'\u001b[39m,list1[\u001b[38;5;241m2\u001b[39m][\u001b[38;5;241m1\u001b[39m],\u001b[38;5;124m'\u001b[39m\u001b[38;5;124m,\u001b[39m\u001b[38;5;124m'\u001b[39m,list1[\u001b[38;5;241m2\u001b[39m][\u001b[38;5;241m3\u001b[39m][\u001b[38;5;241m0\u001b[39m])\u001b[38;5;66;03m#string\u001b[39;00m\n\u001b[1;32m----> 3\u001b[0m \u001b[38;5;28mprint\u001b[39m(list1[\u001b[38;5;241m1\u001b[39m],\u001b[38;5;124m'\u001b[39m\u001b[38;5;124m,\u001b[39m\u001b[38;5;124m'\u001b[39m,\u001b[38;5;28mlist\u001b[39m[\u001b[38;5;241m2\u001b[39m][\u001b[38;5;241m0\u001b[39m])\u001b[38;5;66;03m#int\u001b[39;00m\n\u001b[0;32m      4\u001b[0m \u001b[38;5;28mprint\u001b[39m(list1[\u001b[38;5;241m2\u001b[39m][\u001b[38;5;241m2\u001b[39m])\u001b[38;5;66;03m#complex\u001b[39;00m\n\u001b[0;32m      5\u001b[0m \u001b[38;5;28mprint\u001b[39m(list1[\u001b[38;5;241m2\u001b[39m][\u001b[38;5;241m3\u001b[39m][\u001b[38;5;241m2\u001b[39m],\u001b[38;5;124m'\u001b[39m\u001b[38;5;124m,\u001b[39m\u001b[38;5;124m'\u001b[39m,list1[\u001b[38;5;241m2\u001b[39m][\u001b[38;5;241m3\u001b[39m][\u001b[38;5;241m1\u001b[39m])\n",
      "\u001b[1;31mTypeError\u001b[0m: list[2] is not a generic class"
     ]
    }
   ],
   "source": [
    "list1=['shashi',69,[56,'hi',(3+4j),['hakeem',2.5,5,6]]]\n",
    "print(list1[0],',',list1[2][1],',',list1[2][3][0])#string\n",
    "print(list1[1],',',list[2][0])#int\n",
    "print(list1[2][2])#complex\n",
    "print(list1[2][3][2],',',list1[2][3][1])#float"
   ]
  },
  {
   "cell_type": "code",
   "execution_count": 25,
   "id": "0a4a5358-cf46-43c0-848d-67307808edfb",
   "metadata": {},
   "outputs": [
    {
     "name": "stdout",
     "output_type": "stream",
     "text": [
      "shashi , hi , hakeem\n"
     ]
    }
   ],
   "source": [
    "list1=['shashi',69,[56,'hi',(3+4j),['hakeem',2.5,5,6]]]\n",
    "print(list1[0],',',list1[2][1],',',list1[2][3][0])#string"
   ]
  },
  {
   "cell_type": "code",
   "execution_count": 28,
   "id": "7d5e15b0-2b34-4ad7-826b-22a017f7509e",
   "metadata": {},
   "outputs": [
    {
     "name": "stdout",
     "output_type": "stream",
     "text": [
      "shashi , hi , hakeem\n",
      "69 , 56\n",
      "(3+4j)\n",
      "5 , 2.5\n"
     ]
    }
   ],
   "source": [
    "list1=['shashi',69,[56,'hi',(3+4j),['hakeem',2.5,5,6]]]\n",
    "print(list1[0],',',list1[2][1],',',list1[2][3][0])#string\n",
    "print(list1[1],',',list1[2][0])#int\n",
    "print(list1[2][2])#complex\n",
    "print(list1[2][3][2],',',list1[2][3][1])#float"
   ]
  },
  {
   "cell_type": "code",
   "execution_count": null,
   "id": "bd143c21-0042-4553-b31b-cbf4ef7c4787",
   "metadata": {},
   "outputs": [],
   "source": [
    "#lisr enenumerate"
   ]
  },
  {
   "cell_type": "code",
   "execution_count": 4,
   "id": "92b105d2-74a3-49ea-90bf-f62d04087d33",
   "metadata": {},
   "outputs": [
    {
     "data": {
      "text/plain": [
       "[10, 20, 30, 40, 50]"
      ]
     },
     "execution_count": 4,
     "metadata": {},
     "output_type": "execute_result"
    }
   ],
   "source": [
    " l=[10,20,30,40,50]\n",
    "l"
   ]
  },
  {
   "cell_type": "code",
   "execution_count": 5,
   "id": "66f215cb-a5ad-479f-b415-6a928195dccd",
   "metadata": {},
   "outputs": [
    {
     "name": "stdout",
     "output_type": "stream",
     "text": [
      "(0, 10)\n",
      "(1, 20)\n",
      "(2, 30)\n",
      "(3, 40)\n",
      "(4, 50)\n"
     ]
    }
   ],
   "source": [
    "for i in enumerate(l):\n",
    "    print(i)"
   ]
  },
  {
   "cell_type": "code",
   "execution_count": 9,
   "id": "0a195893-130f-4cd4-bfeb-840cea7b328b",
   "metadata": {},
   "outputs": [
    {
     "name": "stdout",
     "output_type": "stream",
     "text": [
      "[10, 20, 30, 40, 50]\n"
     ]
    },
    {
     "ename": "NameError",
     "evalue": "name 'l5' is not defined",
     "output_type": "error",
     "traceback": [
      "\u001b[1;31m---------------------------------------------------------------------------\u001b[0m",
      "\u001b[1;31mNameError\u001b[0m                                 Traceback (most recent call last)",
      "Cell \u001b[1;32mIn[9], line 2\u001b[0m\n\u001b[0;32m      1\u001b[0m \u001b[38;5;28mprint\u001b[39m(l)\n\u001b[1;32m----> 2\u001b[0m \u001b[38;5;28mprint\u001b[39m(l5)\n",
      "\u001b[1;31mNameError\u001b[0m: name 'l5' is not defined"
     ]
    }
   ],
   "source": [
    "print(l)\n",
    "print(l5)"
   ]
  },
  {
   "cell_type": "code",
   "execution_count": 10,
   "id": "9aa3348c-9f5a-42b2-a22f-92fe7a01ccdc",
   "metadata": {},
   "outputs": [
    {
     "data": {
      "text/plain": [
       "[60, 70, 90]"
      ]
     },
     "execution_count": 10,
     "metadata": {},
     "output_type": "execute_result"
    }
   ],
   "source": [
    "l9=[60,70,90]\n",
    "l9"
   ]
  },
  {
   "cell_type": "code",
   "execution_count": 11,
   "id": "493edda7-6bec-4b9b-a5b1-b43dec0a6edb",
   "metadata": {},
   "outputs": [
    {
     "name": "stdout",
     "output_type": "stream",
     "text": [
      "[10, 20, 30, 40, 50]\n",
      "[60, 70, 90]\n"
     ]
    }
   ],
   "source": [
    "print(l)\n",
    "print(l9)"
   ]
  },
  {
   "cell_type": "code",
   "execution_count": 12,
   "id": "1531167a-4870-46cc-b21d-13b4e9d06d59",
   "metadata": {},
   "outputs": [],
   "source": [
    "l9.extend(l)"
   ]
  },
  {
   "cell_type": "code",
   "execution_count": 13,
   "id": "4676f3c9-cb70-4dec-a932-327dba8013e2",
   "metadata": {},
   "outputs": [
    {
     "data": {
      "text/plain": [
       "[60, 70, 90, 10, 20, 30, 40, 50]"
      ]
     },
     "execution_count": 13,
     "metadata": {},
     "output_type": "execute_result"
    }
   ],
   "source": [
    "l9"
   ]
  },
  {
   "cell_type": "code",
   "execution_count": null,
   "id": "eef1e58c-5a77-4bbc-af4b-4e15f6e9a2d6",
   "metadata": {},
   "outputs": [],
   "source": [
    "#sort"
   ]
  },
  {
   "cell_type": "code",
   "execution_count": 14,
   "id": "3b3b67f1-190b-4fd2-9e34-156b17fb8331",
   "metadata": {},
   "outputs": [
    {
     "ename": "TypeError",
     "evalue": "sort() takes no positional arguments",
     "output_type": "error",
     "traceback": [
      "\u001b[1;31m---------------------------------------------------------------------------\u001b[0m",
      "\u001b[1;31mTypeError\u001b[0m                                 Traceback (most recent call last)",
      "Cell \u001b[1;32mIn[14], line 1\u001b[0m\n\u001b[1;32m----> 1\u001b[0m l\u001b[38;5;241m.\u001b[39msort(l)\n\u001b[0;32m      2\u001b[0m l\n",
      "\u001b[1;31mTypeError\u001b[0m: sort() takes no positional arguments"
     ]
    }
   ],
   "source": [
    "l.sort(l)\n"
   ]
  },
  {
   "cell_type": "code",
   "execution_count": 15,
   "id": "3f5423dd-a60a-440c-8507-4215286c8a5a",
   "metadata": {},
   "outputs": [
    {
     "data": {
      "text/plain": [
       "[10, 20, 30, 40, 50]"
      ]
     },
     "execution_count": 15,
     "metadata": {},
     "output_type": "execute_result"
    }
   ],
   "source": [
    "l"
   ]
  },
  {
   "cell_type": "code",
   "execution_count": 17,
   "id": "5428755d-2127-44a2-bd79-7d23ae69d8c3",
   "metadata": {},
   "outputs": [],
   "source": [
    "l.sort(reverse=False)"
   ]
  },
  {
   "cell_type": "code",
   "execution_count": 18,
   "id": "20c46a82-1540-43a6-b451-08a8bfd37b4d",
   "metadata": {},
   "outputs": [
    {
     "data": {
      "text/plain": [
       "[10, 20, 30, 40, 50]"
      ]
     },
     "execution_count": 18,
     "metadata": {},
     "output_type": "execute_result"
    }
   ],
   "source": [
    "l"
   ]
  },
  {
   "cell_type": "code",
   "execution_count": 19,
   "id": "bc8b67fa-452c-47d6-9873-f4f92ea800e6",
   "metadata": {},
   "outputs": [],
   "source": [
    "l.sort(reverse=True)"
   ]
  },
  {
   "cell_type": "code",
   "execution_count": 20,
   "id": "a4f2b2d6-1252-4405-bc48-2c5d7a496580",
   "metadata": {},
   "outputs": [
    {
     "data": {
      "text/plain": [
       "[50, 40, 30, 20, 10]"
      ]
     },
     "execution_count": 20,
     "metadata": {},
     "output_type": "execute_result"
    }
   ],
   "source": [
    "l"
   ]
  },
  {
   "cell_type": "code",
   "execution_count": null,
   "id": "19771e8c-69c5-472a-9eba-cbd0bef24d22",
   "metadata": {},
   "outputs": [],
   "source": []
  }
 ],
 "metadata": {
  "kernelspec": {
   "display_name": "Python [conda env:base] *",
   "language": "python",
   "name": "conda-base-py"
  },
  "language_info": {
   "codemirror_mode": {
    "name": "ipython",
    "version": 3
   },
   "file_extension": ".py",
   "mimetype": "text/x-python",
   "name": "python",
   "nbconvert_exporter": "python",
   "pygments_lexer": "ipython3",
   "version": "3.12.7"
  }
 },
 "nbformat": 4,
 "nbformat_minor": 5
}
