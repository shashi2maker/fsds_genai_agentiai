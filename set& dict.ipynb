{
 "cells": [
  {
   "cell_type": "code",
   "execution_count": 1,
   "id": "c0709620-9b27-4959-b62c-83617e1c8646",
   "metadata": {},
   "outputs": [
    {
     "data": {
      "text/plain": [
       "{}"
      ]
     },
     "execution_count": 1,
     "metadata": {},
     "output_type": "execute_result"
    }
   ],
   "source": [
    "s={}\n",
    "s"
   ]
  },
  {
   "cell_type": "code",
   "execution_count": 2,
   "id": "0c31b0ea-df9c-42df-a6af-5aa971680739",
   "metadata": {},
   "outputs": [
    {
     "data": {
      "text/plain": [
       "dict"
      ]
     },
     "execution_count": 2,
     "metadata": {},
     "output_type": "execute_result"
    }
   ],
   "source": [
    "type(s)"
   ]
  },
  {
   "cell_type": "code",
   "execution_count": 3,
   "id": "b04c08e2-c1cb-469b-86b4-5f63c0b3a9be",
   "metadata": {},
   "outputs": [
    {
     "data": {
      "text/plain": [
       "set()"
      ]
     },
     "execution_count": 3,
     "metadata": {},
     "output_type": "execute_result"
    }
   ],
   "source": [
    "s1=set()\n",
    "s1"
   ]
  },
  {
   "cell_type": "code",
   "execution_count": 4,
   "id": "ecd6e7c4-3eae-4912-b564-d8913cb21d7f",
   "metadata": {},
   "outputs": [
    {
     "data": {
      "text/plain": [
       "set"
      ]
     },
     "execution_count": 4,
     "metadata": {},
     "output_type": "execute_result"
    }
   ],
   "source": [
    "type(s1)"
   ]
  },
  {
   "cell_type": "code",
   "execution_count": 5,
   "id": "48ab61bd-46bc-4d81-b828-7ac105edc3b9",
   "metadata": {},
   "outputs": [
    {
     "data": {
      "text/plain": [
       "{20}"
      ]
     },
     "execution_count": 5,
     "metadata": {},
     "output_type": "execute_result"
    }
   ],
   "source": [
    "s1.add(20)\n",
    "s1"
   ]
  },
  {
   "cell_type": "code",
   "execution_count": 6,
   "id": "d8c02de6-df05-466d-a886-fd7de660b5b4",
   "metadata": {},
   "outputs": [
    {
     "ename": "TypeError",
     "evalue": "set.add() takes exactly one argument (2 given)",
     "output_type": "error",
     "traceback": [
      "\u001b[1;31m---------------------------------------------------------------------------\u001b[0m",
      "\u001b[1;31mTypeError\u001b[0m                                 Traceback (most recent call last)",
      "Cell \u001b[1;32mIn[6], line 1\u001b[0m\n\u001b[1;32m----> 1\u001b[0m s1\u001b[38;5;241m.\u001b[39madd(\u001b[38;5;241m30\u001b[39m,\u001b[38;5;241m40\u001b[39m)\n",
      "\u001b[1;31mTypeError\u001b[0m: set.add() takes exactly one argument (2 given)"
     ]
    }
   ],
   "source": [
    "s1.add(30,40)"
   ]
  },
  {
   "cell_type": "code",
   "execution_count": 7,
   "id": "d65989ee-a03a-4e28-937d-95430b2a8045",
   "metadata": {},
   "outputs": [
    {
     "data": {
      "text/plain": [
       "{20}"
      ]
     },
     "execution_count": 7,
     "metadata": {},
     "output_type": "execute_result"
    }
   ],
   "source": [
    "s1"
   ]
  },
  {
   "cell_type": "code",
   "execution_count": 8,
   "id": "9b8afbc0-153c-491d-8410-7ed3b39b0c0d",
   "metadata": {},
   "outputs": [
    {
     "data": {
      "text/plain": [
       "{10, 20, 25, 100}"
      ]
     },
     "execution_count": 8,
     "metadata": {},
     "output_type": "execute_result"
    }
   ],
   "source": [
    "s1.add(10)\n",
    "s1.add(100)\n",
    "s1.add(25)\n",
    "s1"
   ]
  },
  {
   "cell_type": "code",
   "execution_count": 9,
   "id": "3807714c-3fd2-4630-81f5-efabdcdbbd48",
   "metadata": {},
   "outputs": [
    {
     "ename": "TypeError",
     "evalue": "'set' object is not subscriptable",
     "output_type": "error",
     "traceback": [
      "\u001b[1;31m---------------------------------------------------------------------------\u001b[0m",
      "\u001b[1;31mTypeError\u001b[0m                                 Traceback (most recent call last)",
      "Cell \u001b[1;32mIn[9], line 1\u001b[0m\n\u001b[1;32m----> 1\u001b[0m s1[\u001b[38;5;241m0\u001b[39m]\n",
      "\u001b[1;31mTypeError\u001b[0m: 'set' object is not subscriptable"
     ]
    }
   ],
   "source": [
    "s1[0]"
   ]
  },
  {
   "cell_type": "code",
   "execution_count": 10,
   "id": "2a036459-eca7-429c-a154-be080b413e4c",
   "metadata": {},
   "outputs": [
    {
     "ename": "SyntaxError",
     "evalue": "invalid syntax (416174844.py, line 1)",
     "output_type": "error",
     "traceback": [
      "\u001b[1;36m  Cell \u001b[1;32mIn[10], line 1\u001b[1;36m\u001b[0m\n\u001b[1;33m    s1{:}\u001b[0m\n\u001b[1;37m      ^\u001b[0m\n\u001b[1;31mSyntaxError\u001b[0m\u001b[1;31m:\u001b[0m invalid syntax\n"
     ]
    }
   ],
   "source": [
    "s1{:}"
   ]
  },
  {
   "cell_type": "markdown",
   "id": "35c76f26-6f06-4545-9ef2-d879cec6d71c",
   "metadata": {},
   "source": [
    "\n",
    "s2=set()\n"
   ]
  },
  {
   "cell_type": "code",
   "execution_count": 11,
   "id": "6a11d967-03f0-43ad-8942-c9bdde0ec9e5",
   "metadata": {},
   "outputs": [
    {
     "ename": "NameError",
     "evalue": "name 's2' is not defined",
     "output_type": "error",
     "traceback": [
      "\u001b[1;31m---------------------------------------------------------------------------\u001b[0m",
      "\u001b[1;31mNameError\u001b[0m                                 Traceback (most recent call last)",
      "Cell \u001b[1;32mIn[11], line 1\u001b[0m\n\u001b[1;32m----> 1\u001b[0m s2\n",
      "\u001b[1;31mNameError\u001b[0m: name 's2' is not defined"
     ]
    }
   ],
   "source": [
    "s2"
   ]
  },
  {
   "cell_type": "code",
   "execution_count": 12,
   "id": "cf03840c-8050-48e4-9543-41e17925d202",
   "metadata": {},
   "outputs": [
    {
     "data": {
      "text/plain": [
       "set()"
      ]
     },
     "execution_count": 12,
     "metadata": {},
     "output_type": "execute_result"
    }
   ],
   "source": [
    "s3=set()\n",
    "s3"
   ]
  },
  {
   "cell_type": "code",
   "execution_count": 13,
   "id": "c0929f2a-8918-4af9-a9ee-981ad958244e",
   "metadata": {},
   "outputs": [
    {
     "data": {
      "text/plain": [
       "{(1+2j), 1.2, 10, True, 'nit'}"
      ]
     },
     "execution_count": 13,
     "metadata": {},
     "output_type": "execute_result"
    }
   ],
   "source": [
    "s3.add(10)\n",
    "s3.add(1.2)\n",
    "s3.add(1+2j)\n",
    "s3.add(True)\n",
    "s3.add('nit')\n",
    "s3"
   ]
  },
  {
   "cell_type": "code",
   "execution_count": 14,
   "id": "8d44f5f3-4128-49db-a33e-646eb71f8ea9",
   "metadata": {},
   "outputs": [
    {
     "name": "stdout",
     "output_type": "stream",
     "text": [
      "{100, 25, 10, 20}\n",
      "{1.2, True, (1+2j), 10, 'nit'}\n"
     ]
    }
   ],
   "source": [
    "print(s1)\n",
    "print(s3)"
   ]
  },
  {
   "cell_type": "code",
   "execution_count": 16,
   "id": "f31df54e-e011-460a-9d84-449b4119833f",
   "metadata": {},
   "outputs": [
    {
     "data": {
      "text/plain": [
       "False"
      ]
     },
     "execution_count": 16,
     "metadata": {},
     "output_type": "execute_result"
    }
   ],
   "source": [
    "id(s1)==id(s3)"
   ]
  },
  {
   "cell_type": "code",
   "execution_count": 18,
   "id": "fe3af7fd-7dfb-41e0-a1d1-8e01a8298cb8",
   "metadata": {},
   "outputs": [
    {
     "data": {
      "text/plain": [
       "{(1+2j), 1.2, 10, True, 'nit'}"
      ]
     },
     "execution_count": 18,
     "metadata": {},
     "output_type": "execute_result"
    }
   ],
   "source": [
    "s4=s3.copy()\n",
    "s4"
   ]
  },
  {
   "cell_type": "code",
   "execution_count": 19,
   "id": "dbf664e9-868d-46a8-a58b-db6c1ae65f21",
   "metadata": {},
   "outputs": [
    {
     "data": {
      "text/plain": [
       "True"
      ]
     },
     "execution_count": 19,
     "metadata": {},
     "output_type": "execute_result"
    }
   ],
   "source": [
    "s3==s4"
   ]
  },
  {
   "cell_type": "code",
   "execution_count": 20,
   "id": "54c51193-a7a9-4270-a8eb-debf10f0ea37",
   "metadata": {},
   "outputs": [
    {
     "name": "stdout",
     "output_type": "stream",
     "text": [
      "{100, 25, 10, 20}\n",
      "{1.2, True, (1+2j), 10, 'nit'}\n",
      "{1.2, True, (1+2j), 10, 'nit'}\n"
     ]
    }
   ],
   "source": [
    "print(s1)\n",
    "print(s3)\n",
    "print(s4)"
   ]
  },
  {
   "cell_type": "code",
   "execution_count": 21,
   "id": "aef672b3-6fd7-4dae-bfc4-5c03e78eab03",
   "metadata": {},
   "outputs": [
    {
     "data": {
      "text/plain": [
       "1.2"
      ]
     },
     "execution_count": 21,
     "metadata": {},
     "output_type": "execute_result"
    }
   ],
   "source": [
    "s3.pop()"
   ]
  },
  {
   "cell_type": "code",
   "execution_count": 22,
   "id": "9253a77e-6b85-4ce7-8469-b346cc505836",
   "metadata": {},
   "outputs": [
    {
     "data": {
      "text/plain": [
       "True"
      ]
     },
     "execution_count": 22,
     "metadata": {},
     "output_type": "execute_result"
    }
   ],
   "source": [
    "s3.pop()"
   ]
  },
  {
   "cell_type": "code",
   "execution_count": 27,
   "id": "461eca75-530d-4144-afe0-b486e5c07415",
   "metadata": {},
   "outputs": [
    {
     "data": {
      "text/plain": [
       "{'nit'}"
      ]
     },
     "execution_count": 27,
     "metadata": {},
     "output_type": "execute_result"
    }
   ],
   "source": [
    "s3.remove(10)\n",
    "s3"
   ]
  },
  {
   "cell_type": "code",
   "execution_count": 28,
   "id": "1c6eb371-7fe6-4058-9c1c-4d0d3fd2951b",
   "metadata": {},
   "outputs": [
    {
     "data": {
      "text/plain": [
       "{'nit'}"
      ]
     },
     "execution_count": 28,
     "metadata": {},
     "output_type": "execute_result"
    }
   ],
   "source": [
    "s3"
   ]
  },
  {
   "cell_type": "code",
   "execution_count": 29,
   "id": "bb4e48fd-3611-4dff-987c-c4f182d5f0cf",
   "metadata": {},
   "outputs": [
    {
     "ename": "KeyError",
     "evalue": "1000",
     "output_type": "error",
     "traceback": [
      "\u001b[1;31m---------------------------------------------------------------------------\u001b[0m",
      "\u001b[1;31mKeyError\u001b[0m                                  Traceback (most recent call last)",
      "Cell \u001b[1;32mIn[29], line 1\u001b[0m\n\u001b[1;32m----> 1\u001b[0m s3\u001b[38;5;241m.\u001b[39mremove(\u001b[38;5;241m1000\u001b[39m)\n",
      "\u001b[1;31mKeyError\u001b[0m: 1000"
     ]
    }
   ],
   "source": [
    "s3.remove(1000)"
   ]
  },
  {
   "cell_type": "code",
   "execution_count": 31,
   "id": "7afc450e-97fb-4be7-a96f-108bb901aba1",
   "metadata": {},
   "outputs": [],
   "source": [
    "s3.discard(1000)"
   ]
  },
  {
   "cell_type": "code",
   "execution_count": 33,
   "id": "ba6154df-66d8-4448-80b2-38fdfebfc622",
   "metadata": {},
   "outputs": [
    {
     "data": {
      "text/plain": [
       "{'nit'}"
      ]
     },
     "execution_count": 33,
     "metadata": {},
     "output_type": "execute_result"
    }
   ],
   "source": [
    "s3.discard(True)\n",
    "s3"
   ]
  },
  {
   "cell_type": "code",
   "execution_count": 34,
   "id": "714d26b8-61aa-42ce-a3ae-2ced117352f4",
   "metadata": {},
   "outputs": [
    {
     "name": "stdout",
     "output_type": "stream",
     "text": [
      "nit\n"
     ]
    }
   ],
   "source": [
    "for i in s3:\n",
    "    print(i)"
   ]
  },
  {
   "cell_type": "code",
   "execution_count": 35,
   "id": "504f1512-4c7b-4f96-bd36-7406f109b29b",
   "metadata": {},
   "outputs": [
    {
     "name": "stdout",
     "output_type": "stream",
     "text": [
      "(0, 'nit')\n"
     ]
    }
   ],
   "source": [
    "for i in enumerate(s3):\n",
    "    print(i)"
   ]
  },
  {
   "cell_type": "code",
   "execution_count": null,
   "id": "a861fc4f-0d8f-432c-9c3b-31004e6964bf",
   "metadata": {},
   "outputs": [],
   "source": [
    "#set creations\n"
   ]
  },
  {
   "cell_type": "code",
   "execution_count": 36,
   "id": "85159528-2590-472e-82c2-fe350d83cc02",
   "metadata": {},
   "outputs": [
    {
     "data": {
      "text/plain": [
       "{1, 2, 3, 4, 5}"
      ]
     },
     "execution_count": 36,
     "metadata": {},
     "output_type": "execute_result"
    }
   ],
   "source": [
    "\n",
    "set={1,2,3,4,5}  #set of numbers\n",
    "set"
   ]
  },
  {
   "cell_type": "code",
   "execution_count": 37,
   "id": "b7f2c48e-7209-4db9-95f7-a6babbe8feb8",
   "metadata": {},
   "outputs": [
    {
     "data": {
      "text/plain": [
       "5"
      ]
     },
     "execution_count": 37,
     "metadata": {},
     "output_type": "execute_result"
    }
   ],
   "source": [
    "len(set) # length of the  set"
   ]
  },
  {
   "cell_type": "code",
   "execution_count": 38,
   "id": "f21b30f5-e649-4f56-8902-17e5d8ccc34b",
   "metadata": {},
   "outputs": [
    {
     "data": {
      "text/plain": [
       "{1, 2, 3, 4, 5}"
      ]
     },
     "execution_count": 38,
     "metadata": {},
     "output_type": "execute_result"
    }
   ],
   "source": [
    "set={1,1,2,2,3,3,4,4,5,5,} #dulicate element are not allowed.\n",
    "set"
   ]
  },
  {
   "cell_type": "code",
   "execution_count": 40,
   "id": "284f221e-de20-4e87-9dc3-4947c6e39411",
   "metadata": {},
   "outputs": [
    {
     "data": {
      "text/plain": [
       "{1.23, 1.34, 2.32, 4.33}"
      ]
     },
     "execution_count": 40,
     "metadata": {},
     "output_type": "execute_result"
    }
   ],
   "source": [
    "set1={1.34,2.32,1.23,4.33}#set of float number\n",
    "set1"
   ]
  },
  {
   "cell_type": "code",
   "execution_count": 41,
   "id": "67262fe6-a484-45e2-9a1e-67161c7ddd55",
   "metadata": {},
   "outputs": [
    {
     "data": {
      "text/plain": [
       "{'ajay', 'hakeem', 'shashi'}"
      ]
     },
     "execution_count": 41,
     "metadata": {},
     "output_type": "execute_result"
    }
   ],
   "source": [
    "set2={'shashi','hakeem','ajay'}# set of string\n",
    "set2"
   ]
  },
  {
   "cell_type": "code",
   "execution_count": 43,
   "id": "5b923160-4b3c-4ab6-b61e-c3762c1495c7",
   "metadata": {},
   "outputs": [
    {
     "data": {
      "text/plain": [
       "{(11, 22, 33), 10, 20, 'hola'}"
      ]
     },
     "execution_count": 43,
     "metadata": {},
     "output_type": "execute_result"
    }
   ],
   "source": [
    "set3={10,20,\"hola\",(11,22,33)}#mixed datatype\n",
    "set3"
   ]
  },
  {
   "cell_type": "code",
   "execution_count": 44,
   "id": "750a680c-e57e-4f35-bc10-28510f75a573",
   "metadata": {},
   "outputs": [
    {
     "ename": "TypeError",
     "evalue": "unhashable type: 'list'",
     "output_type": "error",
     "traceback": [
      "\u001b[1;31m---------------------------------------------------------------------------\u001b[0m",
      "\u001b[1;31mTypeError\u001b[0m                                 Traceback (most recent call last)",
      "Cell \u001b[1;32mIn[44], line 1\u001b[0m\n\u001b[1;32m----> 1\u001b[0m set3\u001b[38;5;241m=\u001b[39m{\u001b[38;5;241m10\u001b[39m,\u001b[38;5;241m20\u001b[39m,\u001b[38;5;124m\"\u001b[39m\u001b[38;5;124mhola\u001b[39m\u001b[38;5;124m\"\u001b[39m,[\u001b[38;5;241m11\u001b[39m,\u001b[38;5;241m22\u001b[39m,\u001b[38;5;241m33\u001b[39m]}\u001b[38;5;66;03m#set doesn't allow mutable items like list \u001b[39;00m\n\u001b[0;32m      2\u001b[0m set3\n",
      "\u001b[1;31mTypeError\u001b[0m: unhashable type: 'list'"
     ]
    }
   ],
   "source": [
    "set3={10,20,\"hola\",[11,22,33]}#set doesn't allow mutable items like list \n",
    "set3"
   ]
  },
  {
   "cell_type": "code",
   "execution_count": 54,
   "id": "0ce9066a-af2f-4b20-99a3-25b1a570372f",
   "metadata": {},
   "outputs": [
    {
     "ename": "TypeError",
     "evalue": "'set' object is not callable",
     "output_type": "error",
     "traceback": [
      "\u001b[1;31m---------------------------------------------------------------------------\u001b[0m",
      "\u001b[1;31mTypeError\u001b[0m                                 Traceback (most recent call last)",
      "Cell \u001b[1;32mIn[54], line 1\u001b[0m\n\u001b[1;32m----> 1\u001b[0m set4 \u001b[38;5;241m=\u001b[39m \u001b[38;5;28mset\u001b[39m() \u001b[38;5;66;03m# Create an empty set \u001b[39;00m\n\u001b[0;32m      2\u001b[0m \u001b[38;5;28mprint\u001b[39m(\u001b[38;5;28mtype\u001b[39m(set4))\n",
      "\u001b[1;31mTypeError\u001b[0m: 'set' object is not callable"
     ]
    }
   ],
   "source": [
    "set4 = set() # Create an empty set \n",
    "print(type(set4))\n"
   ]
  },
  {
   "cell_type": "code",
   "execution_count": 57,
   "id": "ff57ce86-a608-41d9-913a-cee0e304afc0",
   "metadata": {},
   "outputs": [
    {
     "ename": "TypeError",
     "evalue": "'set' object is not callable",
     "output_type": "error",
     "traceback": [
      "\u001b[1;31m---------------------------------------------------------------------------\u001b[0m",
      "\u001b[1;31mTypeError\u001b[0m                                 Traceback (most recent call last)",
      "Cell \u001b[1;32mIn[57], line 1\u001b[0m\n\u001b[1;32m----> 1\u001b[0m s_1\u001b[38;5;241m=\u001b[39m\u001b[38;5;28mset\u001b[39m((\u001b[38;5;124m'\u001b[39m\u001b[38;5;124mone\u001b[39m\u001b[38;5;124m'\u001b[39m,\u001b[38;5;124m'\u001b[39m\u001b[38;5;124mtwo\u001b[39m\u001b[38;5;124m'\u001b[39m,\u001b[38;5;124m'\u001b[39m\u001b[38;5;124mthree\u001b[39m\u001b[38;5;124m'\u001b[39m,\u001b[38;5;124m'\u001b[39m\u001b[38;5;124mfour\u001b[39m\u001b[38;5;124m'\u001b[39m))\n\u001b[0;32m      2\u001b[0m s_1\n",
      "\u001b[1;31mTypeError\u001b[0m: 'set' object is not callable"
     ]
    }
   ],
   "source": [
    "s_1=set(('one','two','three','four'))\n",
    "s_1"
   ]
  },
  {
   "cell_type": "code",
   "execution_count": null,
   "id": "70e4f61a-5584-494f-ba59-ee001406026b",
   "metadata": {},
   "outputs": [],
   "source": [
    "# loop through  a set"
   ]
  },
  {
   "cell_type": "code",
   "execution_count": 58,
   "id": "8f5da037-14bf-4d2f-a1cd-ddfc7ca51f0a",
   "metadata": {},
   "outputs": [
    {
     "name": "stdout",
     "output_type": "stream",
     "text": [
      "four\n",
      "five\n",
      "eight\n",
      "six\n",
      "two\n",
      "seven\n",
      "one\n",
      "three\n"
     ]
    }
   ],
   "source": [
    "s={'one','two','three','four','five','six','seven','eight'}\n",
    "for i in s:\n",
    "    print(i)"
   ]
  },
  {
   "cell_type": "code",
   "execution_count": 59,
   "id": "09a4bfbd-1413-4910-a97e-f9810a296f93",
   "metadata": {},
   "outputs": [
    {
     "name": "stdout",
     "output_type": "stream",
     "text": [
      "(0, 'four')\n",
      "(1, 'five')\n",
      "(2, 'eight')\n",
      "(3, 'six')\n",
      "(4, 'two')\n",
      "(5, 'seven')\n",
      "(6, 'one')\n",
      "(7, 'three')\n"
     ]
    }
   ],
   "source": [
    "for i in enumerate(s):\n",
    "    print(i)"
   ]
  },
  {
   "cell_type": "markdown",
   "id": "43b7da63-b631-4ceb-89a1-b302db52f771",
   "metadata": {},
   "source": [
    "# set member"
   ]
  },
  {
   "cell_type": "code",
   "execution_count": 60,
   "id": "bc6e8f86-d20e-421d-a769-2627971e76f9",
   "metadata": {},
   "outputs": [
    {
     "data": {
      "text/plain": [
       "{'eight', 'five', 'four', 'one', 'seven', 'six', 'three', 'two'}"
      ]
     },
     "execution_count": 60,
     "metadata": {},
     "output_type": "execute_result"
    }
   ],
   "source": [
    "s"
   ]
  },
  {
   "cell_type": "code",
   "execution_count": 61,
   "id": "66ed0cf3-d3a0-4a6d-8754-ac005b09bd01",
   "metadata": {},
   "outputs": [
    {
     "data": {
      "text/plain": [
       "True"
      ]
     },
     "execution_count": 61,
     "metadata": {},
     "output_type": "execute_result"
    }
   ],
   "source": [
    "'one'in s # check if 'one' exist in the set"
   ]
  },
  {
   "cell_type": "code",
   "execution_count": 62,
   "id": "af595494-748f-4b82-9fee-cee5a479c96d",
   "metadata": {},
   "outputs": [
    {
     "data": {
      "text/plain": [
       "False"
      ]
     },
     "execution_count": 62,
     "metadata": {},
     "output_type": "execute_result"
    }
   ],
   "source": [
    "'nine'in s # check if 'nine' exist in the set"
   ]
  },
  {
   "cell_type": "code",
   "execution_count": 64,
   "id": "537d832e-b00d-4f76-820c-9c8fef2daa42",
   "metadata": {},
   "outputs": [
    {
     "name": "stdout",
     "output_type": "stream",
     "text": [
      "one is present in the set\n"
     ]
    }
   ],
   "source": [
    "if 'one'in s: # check if 'one' exist in the set\n",
    "  print ('one is present in the set')\n",
    "else:\n",
    "  print ('one is not present in the set')"
   ]
  },
  {
   "cell_type": "code",
   "execution_count": 68,
   "id": "192efa7c-462e-457b-9418-92d42b353a67",
   "metadata": {},
   "outputs": [
    {
     "name": "stdout",
     "output_type": "stream",
     "text": [
      "ten is not present in the set\n"
     ]
    }
   ],
   "source": [
    "if 'ten'in s: # check if 'ten' exist in the set\n",
    "  print ('ten is present in the set')\n",
    "else:\n",
    "   print ('ten is not present in the set')"
   ]
  },
  {
   "cell_type": "markdown",
   "id": "70743c9c-8619-4d8c-8778-54a761304bc2",
   "metadata": {},
   "source": [
    "#add & remove items"
   ]
  },
  {
   "cell_type": "code",
   "execution_count": 69,
   "id": "a652d68f-83dd-4337-a812-8761c855f771",
   "metadata": {},
   "outputs": [
    {
     "data": {
      "text/plain": [
       "{'eight', 'five', 'four', 'one', 'seven', 'six', 'three', 'two'}"
      ]
     },
     "execution_count": 69,
     "metadata": {},
     "output_type": "execute_result"
    }
   ],
   "source": [
    "s"
   ]
  },
  {
   "cell_type": "code",
   "execution_count": 70,
   "id": "0cdb2fb9-2bd7-49c9-8bc3-2a9f96205797",
   "metadata": {},
   "outputs": [
    {
     "data": {
      "text/plain": [
       "{'eight', 'five', 'four', 'nine', 'one', 'seven', 'six', 'three', 'two'}"
      ]
     },
     "execution_count": 70,
     "metadata": {},
     "output_type": "execute_result"
    }
   ],
   "source": [
    "s.add('nine') # addd item to a set using add() method\n",
    "s"
   ]
  },
  {
   "cell_type": "code",
   "execution_count": 78,
   "id": "d71584b6-970f-4555-96c4-e74c4a49d9dd",
   "metadata": {},
   "outputs": [
    {
     "data": {
      "text/plain": [
       "{'E',\n",
       " 'ELEVEN',\n",
       " 'L',\n",
       " 'N',\n",
       " 'T',\n",
       " 'TEN',\n",
       " 'TWELEVE',\n",
       " 'V',\n",
       " 'W',\n",
       " 'e',\n",
       " 'eight',\n",
       " 'five',\n",
       " 'four',\n",
       " 'l',\n",
       " 'n',\n",
       " 'nine',\n",
       " 'one',\n",
       " 'seven',\n",
       " 'six',\n",
       " 't',\n",
       " 'three',\n",
       " 'two',\n",
       " 'v',\n",
       " 'w'}"
      ]
     },
     "execution_count": 78,
     "metadata": {},
     "output_type": "execute_result"
    }
   ],
   "source": []
  },
  {
   "cell_type": "code",
   "execution_count": 79,
   "id": "4837a465-d8fe-46f0-bc64-148f89b01b5f",
   "metadata": {},
   "outputs": [
    {
     "ename": "NameError",
     "evalue": "name 'S' is not defined",
     "output_type": "error",
     "traceback": [
      "\u001b[1;31m---------------------------------------------------------------------------\u001b[0m",
      "\u001b[1;31mNameError\u001b[0m                                 Traceback (most recent call last)",
      "Cell \u001b[1;32mIn[79], line 1\u001b[0m\n\u001b[1;32m----> 1\u001b[0m S\u001b[38;5;241m.\u001b[39mupdate([\u001b[38;5;124m'\u001b[39m\u001b[38;5;124mTEN\u001b[39m\u001b[38;5;124m'\u001b[39m , \u001b[38;5;124m'\u001b[39m\u001b[38;5;124mELEVEN\u001b[39m\u001b[38;5;124m'\u001b[39m , \u001b[38;5;124m'\u001b[39m\u001b[38;5;124mTWELVE\u001b[39m\u001b[38;5;124m'\u001b[39m]) \u001b[38;5;66;03m# Add multiple item to a set using \u001b[39;00m\n\u001b[0;32m      2\u001b[0m S\n",
      "\u001b[1;31mNameError\u001b[0m: name 'S' is not defined"
     ]
    }
   ],
   "source": [
    "S.update(['TEN' , 'ELEVEN' , 'TWELVE']) # Add multiple item to a set using \n",
    "S \n"
   ]
  },
  {
   "cell_type": "code",
   "execution_count": 80,
   "id": "0a295aff-8d7f-4fed-b1b2-78a5c5e09e44",
   "metadata": {},
   "outputs": [
    {
     "ename": "NameError",
     "evalue": "name 'S' is not defined",
     "output_type": "error",
     "traceback": [
      "\u001b[1;31m---------------------------------------------------------------------------\u001b[0m",
      "\u001b[1;31mNameError\u001b[0m                                 Traceback (most recent call last)",
      "Cell \u001b[1;32mIn[80], line 1\u001b[0m\n\u001b[1;32m----> 1\u001b[0m S\n",
      "\u001b[1;31mNameError\u001b[0m: name 'S' is not defined"
     ]
    }
   ],
   "source": [
    "S"
   ]
  },
  {
   "cell_type": "code",
   "execution_count": 81,
   "id": "8950da35-31f4-481e-b6d1-a0e9de3908e3",
   "metadata": {},
   "outputs": [
    {
     "name": "stdout",
     "output_type": "stream",
     "text": [
      "four\n",
      "five\n",
      "eight\n",
      "six\n",
      "two\n",
      "seven\n",
      "one\n",
      "three\n"
     ]
    }
   ],
   "source": [
    "s={'one','two','three','four','five','six','seven','eight'}\n",
    "for i in s:\n",
    "    print(i)"
   ]
  },
  {
   "cell_type": "code",
   "execution_count": 82,
   "id": "5f32deff-717a-439a-9bbb-cd7a30796de7",
   "metadata": {},
   "outputs": [
    {
     "ename": "NameError",
     "evalue": "name 'S' is not defined",
     "output_type": "error",
     "traceback": [
      "\u001b[1;31m---------------------------------------------------------------------------\u001b[0m",
      "\u001b[1;31mNameError\u001b[0m                                 Traceback (most recent call last)",
      "Cell \u001b[1;32mIn[82], line 1\u001b[0m\n\u001b[1;32m----> 1\u001b[0m S\u001b[38;5;241m.\u001b[39mupdate([\u001b[38;5;124m'\u001b[39m\u001b[38;5;124mTEN\u001b[39m\u001b[38;5;124m'\u001b[39m , \u001b[38;5;124m'\u001b[39m\u001b[38;5;124mELEVEN\u001b[39m\u001b[38;5;124m'\u001b[39m , \u001b[38;5;124m'\u001b[39m\u001b[38;5;124mTWELVE\u001b[39m\u001b[38;5;124m'\u001b[39m]) \u001b[38;5;66;03m# Add multiple item to a set using\u001b[39;00m\n\u001b[0;32m      2\u001b[0m S\n",
      "\u001b[1;31mNameError\u001b[0m: name 'S' is not defined"
     ]
    }
   ],
   "source": [
    "S.update(['TEN' , 'ELEVEN' , 'TWELVE']) # Add multiple item to a set using\n",
    "S"
   ]
  },
  {
   "cell_type": "code",
   "execution_count": 84,
   "id": "b2389633-cb07-4af1-a49d-ff6ff617c618",
   "metadata": {},
   "outputs": [
    {
     "ename": "NameError",
     "evalue": "name 'S' is not defined",
     "output_type": "error",
     "traceback": [
      "\u001b[1;31m---------------------------------------------------------------------------\u001b[0m",
      "\u001b[1;31mNameError\u001b[0m                                 Traceback (most recent call last)",
      "Cell \u001b[1;32mIn[84], line 1\u001b[0m\n\u001b[1;32m----> 1\u001b[0m S\u001b[38;5;241m.\u001b[39mREMOVE([\u001b[38;5;124m'\u001b[39m\u001b[38;5;124mTWO\u001b[39m\u001b[38;5;124m'\u001b[39m])\n",
      "\u001b[1;31mNameError\u001b[0m: name 'S' is not defined"
     ]
    }
   ],
   "source": [
    "S.REMOVE(['TWO']) # Add multiple item to a set using"
   ]
  },
  {
   "cell_type": "code",
   "execution_count": 85,
   "id": "29d00b0d-2082-48c9-82c6-6650f290e0a8",
   "metadata": {},
   "outputs": [
    {
     "name": "stdout",
     "output_type": "stream",
     "text": [
      "four\n",
      "five\n",
      "eight\n",
      "six\n",
      "two\n",
      "seven\n",
      "one\n",
      "NINE\n",
      "three\n"
     ]
    }
   ],
   "source": [
    "s8={'one','two','NINE','three','four','five','six','seven','eight'}\n",
    "for i in s8:\n",
    "    print(i)"
   ]
  },
  {
   "cell_type": "code",
   "execution_count": 88,
   "id": "fc96604e-ef78-46b8-a549-700b71c97c79",
   "metadata": {},
   "outputs": [
    {
     "data": {
      "text/plain": [
       "{'NINE', 'eight', 'five', 'four', 'one', 'seven', 'six', 'three'}"
      ]
     },
     "execution_count": 88,
     "metadata": {},
     "output_type": "execute_result"
    }
   ],
   "source": [
    "s8.remove('two') # Add multiple item to a set using\n",
    "s8"
   ]
  },
  {
   "cell_type": "code",
   "execution_count": 89,
   "id": "9bc14f2b-9530-4375-a2e2-38d500e04640",
   "metadata": {},
   "outputs": [
    {
     "data": {
      "text/plain": [
       "{'NINE', 'eight', 'four', 'one', 'seven', 'six', 'three'}"
      ]
     },
     "execution_count": 89,
     "metadata": {},
     "output_type": "execute_result"
    }
   ],
   "source": [
    "s8.discard('five')\n",
    "s8"
   ]
  },
  {
   "cell_type": "code",
   "execution_count": 90,
   "id": "cb95481b-8564-4345-9e27-843e40aa6311",
   "metadata": {},
   "outputs": [
    {
     "data": {
      "text/plain": [
       "set()"
      ]
     },
     "execution_count": 90,
     "metadata": {},
     "output_type": "execute_result"
    }
   ],
   "source": [
    " \n",
    "s8.clear() # Delete all items in a set \n",
    "s8"
   ]
  },
  {
   "cell_type": "code",
   "execution_count": 91,
   "id": "9caffe5e-9d23-48b1-8671-131827b70085",
   "metadata": {},
   "outputs": [
    {
     "ename": "NameError",
     "evalue": "name 's8' is not defined",
     "output_type": "error",
     "traceback": [
      "\u001b[1;31m---------------------------------------------------------------------------\u001b[0m",
      "\u001b[1;31mNameError\u001b[0m                                 Traceback (most recent call last)",
      "Cell \u001b[1;32mIn[91], line 2\u001b[0m\n\u001b[0;32m      1\u001b[0m \u001b[38;5;28;01mdel\u001b[39;00m s8  \u001b[38;5;66;03m# delete the set object\u001b[39;00m\n\u001b[1;32m----> 2\u001b[0m s8\n",
      "\u001b[1;31mNameError\u001b[0m: name 's8' is not defined"
     ]
    }
   ],
   "source": [
    " del s8  # delete the set object\n",
    "s8"
   ]
  },
  {
   "cell_type": "markdown",
   "id": "55ea37db-2bdd-4188-91b2-5790ada2f3ff",
   "metadata": {},
   "source": [
    "# copy set"
   ]
  },
  {
   "cell_type": "code",
   "execution_count": 92,
   "id": "95af49d5-72a0-480c-9c94-36272a857072",
   "metadata": {},
   "outputs": [
    {
     "ename": "NameError",
     "evalue": "name 's8' is not defined",
     "output_type": "error",
     "traceback": [
      "\u001b[1;31m---------------------------------------------------------------------------\u001b[0m",
      "\u001b[1;31mNameError\u001b[0m                                 Traceback (most recent call last)",
      "Cell \u001b[1;32mIn[92], line 1\u001b[0m\n\u001b[1;32m----> 1\u001b[0m s8\n",
      "\u001b[1;31mNameError\u001b[0m: name 's8' is not defined"
     ]
    }
   ],
   "source": [
    "s"
   ]
  },
  {
   "cell_type": "code",
   "execution_count": 93,
   "id": "235d07b7-ee47-406f-8161-8989c45dfa38",
   "metadata": {},
   "outputs": [
    {
     "data": {
      "text/plain": [
       "{'NINE', 'eight', 'five', 'four', 'one', 'seven', 'six', 'three', 'two'}"
      ]
     },
     "execution_count": 93,
     "metadata": {},
     "output_type": "execute_result"
    }
   ],
   "source": [
    "s9={'one','two','NINE','three','four','five','six','seven','eight'}\n",
    "s9"
   ]
  },
  {
   "cell_type": "code",
   "execution_count": 94,
   "id": "bc9658eb-4078-4ee7-8014-5c928207d9c6",
   "metadata": {},
   "outputs": [
    {
     "data": {
      "text/plain": [
       "{'NINE', 'eight', 'five', 'four', 'one', 'seven', 'six', 'three', 'two'}"
      ]
     },
     "execution_count": 94,
     "metadata": {},
     "output_type": "execute_result"
    }
   ],
   "source": [
    "s10=s9# create a new reference \"s10\"\n",
    "s10"
   ]
  },
  {
   "cell_type": "code",
   "execution_count": 95,
   "id": "d4e8b6f6-64cf-49f0-a33e-43cb51c049d3",
   "metadata": {},
   "outputs": [
    {
     "data": {
      "text/plain": [
       "(2709815982592, 2709815982592)"
      ]
     },
     "execution_count": 95,
     "metadata": {},
     "output_type": "execute_result"
    }
   ],
   "source": [
    "id(s9),id(s10)# address of both s9and s10"
   ]
  },
  {
   "cell_type": "markdown",
   "id": "72d52cfc-4156-4aa6-873a-d3a9f81f83e2",
   "metadata": {},
   "source": [
    "#set operations"
   ]
  },
  {
   "cell_type": "markdown",
   "id": "eab2932b-0ee3-4abc-a211-4b530c5f7f60",
   "metadata": {},
   "source": [
    "#union"
   ]
  },
  {
   "cell_type": "code",
   "execution_count": 3,
   "id": "2f761996-e00e-4ba8-ba3c-067a3af0d0e5",
   "metadata": {},
   "outputs": [
    {
     "data": {
      "text/plain": [
       "{1, 2, 3, 4, 5, 6, 7, 8}"
      ]
     },
     "execution_count": 3,
     "metadata": {},
     "output_type": "execute_result"
    }
   ],
   "source": [
    "A={1,2,3,4,5}\n",
    "B={4,5,6,7,8}\n",
    "C={8,9,10}\n",
    "A | B #UNION of A and B"
   ]
  },
  {
   "cell_type": "code",
   "execution_count": 4,
   "id": "455d4648-1f4b-4dc5-85e1-d95575f42863",
   "metadata": {},
   "outputs": [
    {
     "data": {
      "text/plain": [
       "{1, 2, 3, 4, 5, 6, 7, 8}"
      ]
     },
     "execution_count": 4,
     "metadata": {},
     "output_type": "execute_result"
    }
   ],
   "source": [
    "A.union(B)"
   ]
  },
  {
   "cell_type": "code",
   "execution_count": 5,
   "id": "c2797139-aa7a-4d1c-ae69-77cdc76ab6c6",
   "metadata": {},
   "outputs": [
    {
     "data": {
      "text/plain": [
       "{1, 2, 3, 4, 5, 6, 7, 8, 9, 10}"
      ]
     },
     "execution_count": 5,
     "metadata": {},
     "output_type": "execute_result"
    }
   ],
   "source": [
    "A.union(B,C)"
   ]
  },
  {
   "cell_type": "markdown",
   "id": "142f578f-36e9-4252-b61c-e8470cc16534",
   "metadata": {},
   "source": [
    "#INTERSECTION"
   ]
  },
  {
   "cell_type": "code",
   "execution_count": 6,
   "id": "a6e8b7f4-315f-48bc-aed3-c7bd502a7c67",
   "metadata": {},
   "outputs": [
    {
     "data": {
      "text/plain": [
       "{4, 5}"
      ]
     },
     "execution_count": 6,
     "metadata": {},
     "output_type": "execute_result"
    }
   ],
   "source": [
    "A={1,2,3,4,5}\n",
    "B={4,5,6,7,8}\n",
    "A&B #intersection of a and b"
   ]
  },
  {
   "cell_type": "code",
   "execution_count": 7,
   "id": "0309450d-b702-4861-b618-981e83ca4c0c",
   "metadata": {},
   "outputs": [
    {
     "data": {
      "text/plain": [
       "{4, 5}"
      ]
     },
     "execution_count": 7,
     "metadata": {},
     "output_type": "execute_result"
    }
   ],
   "source": [
    "A.intersection(B) "
   ]
  },
  {
   "cell_type": "markdown",
   "id": "ac831c02-9d0a-42d6-a860-01910287536e",
   "metadata": {},
   "source": [
    "# difference"
   ]
  },
  {
   "cell_type": "code",
   "execution_count": null,
   "id": "7a0f7c73-56c4-415b-bc05-ded10eb754fc",
   "metadata": {},
   "outputs": [],
   "source": [
    "A={1,2,3,4,5}\n",
    "B={4,5,6,7,8}"
   ]
  },
  {
   "cell_type": "code",
   "execution_count": 8,
   "id": "bfdf8602-ac63-4c75-b1c1-432973071ba1",
   "metadata": {},
   "outputs": [
    {
     "data": {
      "text/plain": [
       "{1, 2, 3}"
      ]
     },
     "execution_count": 8,
     "metadata": {},
     "output_type": "execute_result"
    }
   ],
   "source": [
    "A-B # set of elements thaat are only in A but  NOT in B"
   ]
  },
  {
   "cell_type": "code",
   "execution_count": 9,
   "id": "9deaa3a9-815e-4abc-85ec-f48867134ff8",
   "metadata": {},
   "outputs": [
    {
     "data": {
      "text/plain": [
       "{1, 2, 3}"
      ]
     },
     "execution_count": 9,
     "metadata": {},
     "output_type": "execute_result"
    }
   ],
   "source": [
    "A.difference(B)"
   ]
  },
  {
   "cell_type": "code",
   "execution_count": 10,
   "id": "22d034ee-c332-4092-a50e-368656d0cc23",
   "metadata": {},
   "outputs": [
    {
     "data": {
      "text/plain": [
       "{6, 7, 8}"
      ]
     },
     "execution_count": 10,
     "metadata": {},
     "output_type": "execute_result"
    }
   ],
   "source": [
    "B-A"
   ]
  },
  {
   "cell_type": "code",
   "execution_count": 13,
   "id": "076a8ef7-90ee-4a45-86c8-fac9bb7497a3",
   "metadata": {},
   "outputs": [
    {
     "data": {
      "text/plain": [
       "{6, 7, 8}"
      ]
     },
     "execution_count": 13,
     "metadata": {},
     "output_type": "execute_result"
    }
   ],
   "source": [
    "B.difference (A)"
   ]
  },
  {
   "cell_type": "markdown",
   "id": "06425f63-d64c-4c10-b04e-f962756d8e41",
   "metadata": {},
   "source": [
    "# symmetric difference"
   ]
  },
  {
   "cell_type": "code",
   "execution_count": null,
   "id": "0b458cea-f2bb-463d-8bca-c2323b191e45",
   "metadata": {},
   "outputs": [],
   "source": [
    "A = {1,2,3,4,5} \n",
    "B = {4,5,6,7,8} "
   ]
  },
  {
   "cell_type": "code",
   "execution_count": 14,
   "id": "cc0b4d76-9115-474e-b70f-e0bb6603c509",
   "metadata": {},
   "outputs": [
    {
     "data": {
      "text/plain": [
       "{1, 2, 3, 6, 7, 8}"
      ]
     },
     "execution_count": 14,
     "metadata": {},
     "output_type": "execute_result"
    }
   ],
   "source": [
    "A^B # SYMMETRIC DIFFERENCE (set of a and b but not common one) "
   ]
  },
  {
   "cell_type": "code",
   "execution_count": 15,
   "id": "c401ab87-cda1-46e8-9749-aad854d456e8",
   "metadata": {},
   "outputs": [
    {
     "data": {
      "text/plain": [
       "{1, 2, 3, 6, 7, 8}"
      ]
     },
     "execution_count": 15,
     "metadata": {},
     "output_type": "execute_result"
    }
   ],
   "source": [
    "A.symmetric_difference(B)"
   ]
  },
  {
   "cell_type": "markdown",
   "id": "33e11486-ce23-4217-ba3e-60e329ff82a6",
   "metadata": {},
   "source": [
    "# SUBSET, SUPERSET, DISJOINT"
   ]
  },
  {
   "cell_type": "code",
   "execution_count": 17,
   "id": "72592f77-09e1-4a85-90be-b14d136bc033",
   "metadata": {},
   "outputs": [
    {
     "data": {
      "text/plain": [
       "True"
      ]
     },
     "execution_count": 17,
     "metadata": {},
     "output_type": "execute_result"
    }
   ],
   "source": [
    "A = {1,2,3,4,5,6,7,8,9} \n",
    "B = {3,4,5,6,7,8} \n",
    "C = {10,20,30,40} \n",
    "B.issubset(A)"
   ]
  },
  {
   "cell_type": "code",
   "execution_count": 18,
   "id": "78a79e0e-e4e8-44ee-bb86-7112511fffe9",
   "metadata": {},
   "outputs": [
    {
     "data": {
      "text/plain": [
       "True"
      ]
     },
     "execution_count": 18,
     "metadata": {},
     "output_type": "execute_result"
    }
   ],
   "source": [
    "B.issubset(A)# set B is said to be the subset of set A if all elements of B are "
   ]
  },
  {
   "cell_type": "code",
   "execution_count": 19,
   "id": "30df33b2-47f1-4656-aa0d-c9e8827c539f",
   "metadata": {},
   "outputs": [
    {
     "data": {
      "text/plain": [
       "True"
      ]
     },
     "execution_count": 19,
     "metadata": {},
     "output_type": "execute_result"
    }
   ],
   "source": [
    "A.issuperset(B)"
   ]
  },
  {
   "cell_type": "code",
   "execution_count": 21,
   "id": "35691a41-e289-4cb9-b8bd-fd8833dc2705",
   "metadata": {},
   "outputs": [
    {
     "data": {
      "text/plain": [
       "True"
      ]
     },
     "execution_count": 21,
     "metadata": {},
     "output_type": "execute_result"
    }
   ],
   "source": [
    "C.isdisjoint(A)"
   ]
  },
  {
   "cell_type": "code",
   "execution_count": 22,
   "id": "d4863e94-de71-44af-bd8d-d1ae115f730c",
   "metadata": {},
   "outputs": [
    {
     "data": {
      "text/plain": [
       "False"
      ]
     },
     "execution_count": 22,
     "metadata": {},
     "output_type": "execute_result"
    }
   ],
   "source": [
    "B.isdisjoint(A)"
   ]
  },
  {
   "cell_type": "markdown",
   "id": "ef0320a9-e244-4544-bf69-138486983743",
   "metadata": {},
   "source": [
    "#0ther builtin funstions"
   ]
  },
  {
   "cell_type": "code",
   "execution_count": 23,
   "id": "27502d14-de33-4ff6-ab57-55f0b5ad2b33",
   "metadata": {},
   "outputs": [
    {
     "ename": "SyntaxError",
     "evalue": "invalid syntax (2919844469.py, line 1)",
     "output_type": "error",
     "traceback": [
      "\u001b[1;36m  Cell \u001b[1;32mIn[23], line 1\u001b[1;36m\u001b[0m\n\u001b[1;33m    A{1,2,3,4,5,6,7,8,9,}\u001b[0m\n\u001b[1;37m     ^\u001b[0m\n\u001b[1;31mSyntaxError\u001b[0m\u001b[1;31m:\u001b[0m invalid syntax\n"
     ]
    }
   ],
   "source": [
    "A{1,2,3,4,5,6,7,8,9,}\n",
    "A"
   ]
  },
  {
   "cell_type": "code",
   "execution_count": 24,
   "id": "aa0473b4-0f25-4f97-93d4-bc9cdc67daae",
   "metadata": {},
   "outputs": [
    {
     "data": {
      "text/plain": [
       "45"
      ]
     },
     "execution_count": 24,
     "metadata": {},
     "output_type": "execute_result"
    }
   ],
   "source": [
    "sum(A)"
   ]
  },
  {
   "cell_type": "code",
   "execution_count": 25,
   "id": "872018c6-ddf4-4278-8c8d-bd66decffd40",
   "metadata": {},
   "outputs": [
    {
     "data": {
      "text/plain": [
       "9"
      ]
     },
     "execution_count": 25,
     "metadata": {},
     "output_type": "execute_result"
    }
   ],
   "source": [
    "max(A)"
   ]
  },
  {
   "cell_type": "code",
   "execution_count": 27,
   "id": "8d2dd62b-9e39-4a7f-8199-09406f5e14d0",
   "metadata": {},
   "outputs": [
    {
     "data": {
      "text/plain": [
       "1"
      ]
     },
     "execution_count": 27,
     "metadata": {},
     "output_type": "execute_result"
    }
   ],
   "source": [
    "min(A)"
   ]
  },
  {
   "cell_type": "code",
   "execution_count": 28,
   "id": "b50726eb-db36-4e24-8e9f-25e2ac92feed",
   "metadata": {},
   "outputs": [
    {
     "data": {
      "text/plain": [
       "9"
      ]
     },
     "execution_count": 28,
     "metadata": {},
     "output_type": "execute_result"
    }
   ],
   "source": [
    "len(A)"
   ]
  },
  {
   "cell_type": "code",
   "execution_count": 29,
   "id": "f5a9167a-cbfb-4cb6-81e5-8b5b280b6d2d",
   "metadata": {},
   "outputs": [
    {
     "data": {
      "text/plain": [
       "[(0, 1), (1, 2), (2, 3), (3, 4), (4, 5), (5, 6), (6, 7), (7, 8), (8, 9)]"
      ]
     },
     "execution_count": 29,
     "metadata": {},
     "output_type": "execute_result"
    }
   ],
   "source": [
    "list(enumerate(A))"
   ]
  },
  {
   "cell_type": "code",
   "execution_count": 30,
   "id": "a1d571cd-08a1-4ef9-8d9b-e88e88dfb053",
   "metadata": {},
   "outputs": [
    {
     "data": {
      "text/plain": [
       "[9, 8, 7, 6, 5, 4, 3, 2, 1]"
      ]
     },
     "execution_count": 30,
     "metadata": {},
     "output_type": "execute_result"
    }
   ],
   "source": [
    "D=sorted(A,reverse=True)\n",
    "D"
   ]
  },
  {
   "cell_type": "code",
   "execution_count": 31,
   "id": "9d23c58b-24cd-415e-b3cf-7d02f17393b9",
   "metadata": {},
   "outputs": [
    {
     "data": {
      "text/plain": [
       "[1, 2, 3, 4, 5, 6, 7, 8, 9]"
      ]
     },
     "execution_count": 31,
     "metadata": {},
     "output_type": "execute_result"
    }
   ],
   "source": [
    "sorted(D)"
   ]
  },
  {
   "cell_type": "markdown",
   "id": "3108ce22-a019-46be-b9a9-3e8529a6c9b1",
   "metadata": {},
   "source": [
    "Dictionary"
   ]
  },
  {
   "cell_type": "code",
   "execution_count": null,
   "id": "8d10bfae-6047-4030-bba8-9b7bb1a73327",
   "metadata": {},
   "outputs": [],
   "source": [
    "create Dictionary"
   ]
  },
  {
   "cell_type": "code",
   "execution_count": 35,
   "id": "9b572d43-019c-4365-9d5f-ecb99eadf382",
   "metadata": {},
   "outputs": [
    {
     "data": {
      "text/plain": [
       "{}"
      ]
     },
     "execution_count": 35,
     "metadata": {},
     "output_type": "execute_result"
    }
   ],
   "source": [
    "setdict=dict() # empty dictionary\n",
    "setdict"
   ]
  },
  {
   "cell_type": "code",
   "execution_count": 36,
   "id": "6dc313ff-4d21-40ed-9be5-0cb1312baa82",
   "metadata": {},
   "outputs": [
    {
     "data": {
      "text/plain": [
       "{}"
      ]
     },
     "execution_count": 36,
     "metadata": {},
     "output_type": "execute_result"
    }
   ],
   "source": [
    "setdict={}\n",
    "setdict"
   ]
  },
  {
   "cell_type": "code",
   "execution_count": 38,
   "id": "fa2c4805-ece8-4f9d-883c-64ed5cc812b8",
   "metadata": {},
   "outputs": [
    {
     "data": {
      "text/plain": [
       "{1: 'one', 2: 'two', 3: 'three'}"
      ]
     },
     "execution_count": 38,
     "metadata": {},
     "output_type": "execute_result"
    }
   ],
   "source": [
    "setdict={1:'one',2:'two',3:'three'}# integer keys\n",
    "setdict"
   ]
  },
  {
   "cell_type": "code",
   "execution_count": 39,
   "id": "e363bb7e-2174-49b4-88f6-26a47f32e0b7",
   "metadata": {},
   "outputs": [
    {
     "data": {
      "text/plain": [
       "{1: 'one', 2: 'two', 3: 'three'}"
      ]
     },
     "execution_count": 39,
     "metadata": {},
     "output_type": "execute_result"
    }
   ],
   "source": [
    "setdict=({1:'one',2:'two',3:'three'})#  create using dict()\n",
    "setdict"
   ]
  },
  {
   "cell_type": "code",
   "execution_count": 40,
   "id": "2c0bf4aa-a833-468c-95a3-a3f9af03f48f",
   "metadata": {},
   "outputs": [
    {
     "data": {
      "text/plain": [
       "{'A': 'one', 'B': 'two', 'C': 'three'}"
      ]
     },
     "execution_count": 40,
     "metadata": {},
     "output_type": "execute_result"
    }
   ],
   "source": [
    "setdict={'A':'one','B':'two','C':'three'}# character keys\n",
    "setdict"
   ]
  },
  {
   "cell_type": "code",
   "execution_count": 41,
   "id": "61858eb1-f732-44f6-bab2-b5e369720350",
   "metadata": {},
   "outputs": [
    {
     "data": {
      "text/plain": [
       "{1: 'one', 'B': 'two', 'C': 'three'}"
      ]
     },
     "execution_count": 41,
     "metadata": {},
     "output_type": "execute_result"
    }
   ],
   "source": [
    "setdict={1:'one','B':'two','C':'three'}# MIXED keys\n",
    "setdict"
   ]
  },
  {
   "cell_type": "code",
   "execution_count": 42,
   "id": "f53c21c1-d568-4083-9580-0ae80cc4ea93",
   "metadata": {},
   "outputs": [
    {
     "data": {
      "text/plain": [
       "dict_keys([1, 'B', 'C'])"
      ]
     },
     "execution_count": 42,
     "metadata": {},
     "output_type": "execute_result"
    }
   ],
   "source": [
    "setdict.keys()  # Return Dictionary Keys using keys() method "
   ]
  },
  {
   "cell_type": "code",
   "execution_count": 43,
   "id": "429be583-59f9-44a5-a8f2-6fbd59f6b65a",
   "metadata": {},
   "outputs": [
    {
     "data": {
      "text/plain": [
       "dict_values(['one', 'two', 'three'])"
      ]
     },
     "execution_count": 43,
     "metadata": {},
     "output_type": "execute_result"
    }
   ],
   "source": [
    "setdict.values()"
   ]
  },
  {
   "cell_type": "code",
   "execution_count": 44,
   "id": "3d52bba5-98c4-4d0b-b438-1790ffd3c5a3",
   "metadata": {},
   "outputs": [
    {
     "data": {
      "text/plain": [
       "dict_items([(1, 'one'), ('B', 'two'), ('C', 'three')])"
      ]
     },
     "execution_count": 44,
     "metadata": {},
     "output_type": "execute_result"
    }
   ],
   "source": [
    "setdict.items()"
   ]
  },
  {
   "cell_type": "code",
   "execution_count": 46,
   "id": "d1f99fc8-1e4a-4efa-99d3-229382359ae4",
   "metadata": {},
   "outputs": [
    {
     "data": {
      "text/plain": [
       "{1: 'one', 2: 'two', 'A': ['shashi', 'hakeem', 'ajay']}"
      ]
     },
     "execution_count": 46,
     "metadata": {},
     "output_type": "execute_result"
    }
   ],
   "source": [
    "\n",
    "setdict={1:'one',2:'two','A':['shashi','hakeem','ajay']}\n",
    "setdict"
   ]
  },
  {
   "cell_type": "code",
   "execution_count": 48,
   "id": "3727bcc0-c055-4e0c-8a96-0c99ec314321",
   "metadata": {},
   "outputs": [
    {
     "data": {
      "text/plain": [
       "{1: 'one',\n",
       " 2: 'two',\n",
       " 'A': ['shashi', 'hakeem', 'ajay'],\n",
       " 'B': ['sattu', 'ravi', 'sujeeth']}"
      ]
     },
     "execution_count": 48,
     "metadata": {},
     "output_type": "execute_result"
    }
   ],
   "source": [
    "setdict={1:'one',2:'two','A':['shashi','hakeem','ajay'],'B':['sattu','ravi','sujeeth']}\n",
    "setdict"
   ]
  },
  {
   "cell_type": "code",
   "execution_count": 49,
   "id": "e1d06824-c0f5-4813-a4d5-ec83cfbc8c65",
   "metadata": {},
   "outputs": [
    {
     "data": {
      "text/plain": [
       "{'a': 10, 'b': 10, 'c': 10, 'd': 10}"
      ]
     },
     "execution_count": 49,
     "metadata": {},
     "output_type": "execute_result"
    }
   ],
   "source": [
    "keys={'a','b','c','d'}\n",
    "value=10\n",
    "setdict=dict.fromkeys(keys,value)\n",
    "setdict"
   ]
  },
  {
   "cell_type": "code",
   "execution_count": 50,
   "id": "6e33a19d-2eb8-46eb-8f58-1a67dd7206f9",
   "metadata": {},
   "outputs": [
    {
     "data": {
      "text/plain": [
       "{'a': [10, 20, 30], 'b': [10, 20, 30], 'c': [10, 20, 30], 'd': [10, 20, 30]}"
      ]
     },
     "execution_count": 50,
     "metadata": {},
     "output_type": "execute_result"
    }
   ],
   "source": [
    "keys={'a','b','c','d'}\n",
    "value=[10,20,30]\n",
    "setdict=dict.fromkeys(keys,value)\n",
    "setdict"
   ]
  },
  {
   "cell_type": "code",
   "execution_count": 51,
   "id": "c08fc881-d76d-4abd-94f8-2ed4267175b0",
   "metadata": {},
   "outputs": [
    {
     "data": {
      "text/plain": [
       "{'a': [10, 20, 30, 40],\n",
       " 'b': [10, 20, 30, 40],\n",
       " 'c': [10, 20, 30, 40],\n",
       " 'd': [10, 20, 30, 40]}"
      ]
     },
     "execution_count": 51,
     "metadata": {},
     "output_type": "execute_result"
    }
   ],
   "source": [
    "value.append(40)\n",
    "setdict"
   ]
  },
  {
   "cell_type": "markdown",
   "id": "7d7cb5a5-40ae-4f15-91c1-6a80b25f1744",
   "metadata": {},
   "source": [
    "add,remove& change items"
   ]
  },
  {
   "cell_type": "code",
   "execution_count": 52,
   "id": "ad6864f4-a799-4a24-82d3-7917fbc6f260",
   "metadata": {},
   "outputs": [
    {
     "data": {
      "text/plain": [
       "{'Name': 'Asif', 'ID': 12345, 'DOB': 1991, 'Address': 'Hilsinki'}"
      ]
     },
     "execution_count": 52,
     "metadata": {},
     "output_type": "execute_result"
    }
   ],
   "source": [
    " \n",
    "setdict1 = {'Name':'Asif' , 'ID': 12345 , 'DOB': 1991 , 'Address' : 'Hilsinki'} \n",
    "setdict1 "
   ]
  },
  {
   "cell_type": "code",
   "execution_count": 53,
   "id": "c3459d0a-267c-4b34-9a9d-1ae129ccdfb3",
   "metadata": {},
   "outputs": [
    {
     "data": {
      "text/plain": [
       "{'Name': 'Asif', 'ID': 12345, 'DOB': 1992, 'Address': 'Delhi'}"
      ]
     },
     "execution_count": 53,
     "metadata": {},
     "output_type": "execute_result"
    }
   ],
   "source": [
    " \n",
    "setdict1['DOB'] = 1992 # Changing Dictionary Items \n",
    "setdict1['Address'] = 'Delhi' \n",
    "setdict1"
   ]
  },
  {
   "cell_type": "code",
   "execution_count": 57,
   "id": "aca77f0d-2bb6-47cd-ad12-86b5087d304e",
   "metadata": {},
   "outputs": [
    {
     "ename": "KeyError",
     "evalue": "'id'",
     "output_type": "error",
     "traceback": [
      "\u001b[1;31m---------------------------------------------------------------------------\u001b[0m",
      "\u001b[1;31mKeyError\u001b[0m                                  Traceback (most recent call last)",
      "Cell \u001b[1;32mIn[57], line 1\u001b[0m\n\u001b[1;32m----> 1\u001b[0m setdict1\u001b[38;5;241m.\u001b[39mpop(\u001b[38;5;124m'\u001b[39m\u001b[38;5;124mid\u001b[39m\u001b[38;5;124m'\u001b[39m) \n\u001b[0;32m      2\u001b[0m setdict1\n",
      "\u001b[1;31mKeyError\u001b[0m: 'id'"
     ]
    }
   ],
   "source": [
    " \n",
    "setdict1.pop('id') \n",
    "setdict1"
   ]
  },
  {
   "cell_type": "code",
   "execution_count": 58,
   "id": "11702fa0-ac17-43c7-949d-77788b770e4d",
   "metadata": {},
   "outputs": [
    {
     "data": {
      "text/plain": [
       "{'Name': 'Asif',\n",
       " 'ID': 12345,\n",
       " 'DOB': 1992,\n",
       " 'Address': 'Delhi',\n",
       " 'Job': 'Analyst'}"
      ]
     },
     "execution_count": 58,
     "metadata": {},
     "output_type": "execute_result"
    }
   ],
   "source": [
    "setdict1['Job'] = 'Analyst' # Adding items in the dictionary \n",
    "setdict1 "
   ]
  },
  {
   "cell_type": "code",
   "execution_count": 60,
   "id": "8702ed3b-41af-441c-b2fe-b644224d2a5c",
   "metadata": {},
   "outputs": [
    {
     "data": {
      "text/plain": [
       "{'Name': 'Asif', 'ID': 12345, 'DOB': 1992, 'Address': 'Delhi'}"
      ]
     },
     "execution_count": 60,
     "metadata": {},
     "output_type": "execute_result"
    }
   ],
   "source": [
    "setdict1.pop('Job') \n",
    "setdict1"
   ]
  },
  {
   "cell_type": "code",
   "execution_count": 61,
   "id": "05e4c1a7-789a-48ac-9f5e-92698c5059f3",
   "metadata": {},
   "outputs": [
    {
     "data": {
      "text/plain": [
       "{'Name': 'Asif', 'ID': 12345, 'DOB': 1992}"
      ]
     },
     "execution_count": 61,
     "metadata": {},
     "output_type": "execute_result"
    }
   ],
   "source": [
    "setdict1.popitem() # random item is removed\n",
    "setdict1"
   ]
  },
  {
   "cell_type": "code",
   "execution_count": 62,
   "id": "3159692b-c7c6-477f-9956-8e80e2718c74",
   "metadata": {},
   "outputs": [
    {
     "data": {
      "text/plain": [
       "{'Name': 'Asif', 'DOB': 1992}"
      ]
     },
     "execution_count": 62,
     "metadata": {},
     "output_type": "execute_result"
    }
   ],
   "source": [
    "del[setdict1['ID']] #removing items using del\n",
    "setdict1"
   ]
  },
  {
   "cell_type": "code",
   "execution_count": 65,
   "id": "81631c4b-33d9-4f68-bcb3-f2b7bac91d00",
   "metadata": {},
   "outputs": [
    {
     "data": {
      "text/plain": [
       "{'a': [10, 20, 30, 40],\n",
       " 'b': [10, 20, 30, 40],\n",
       " 'c': [10, 20, 30, 40],\n",
       " 'd': [10, 20, 30, 40]}"
      ]
     },
     "execution_count": 65,
     "metadata": {},
     "output_type": "execute_result"
    }
   ],
   "source": [
    "setdict1.clear() #delete all items of the dictionary\n",
    "setdict"
   ]
  },
  {
   "cell_type": "code",
   "execution_count": 64,
   "id": "8aa293e3-af46-4768-853e-69ee7340cb5f",
   "metadata": {},
   "outputs": [
    {
     "data": {
      "text/plain": [
       "{}"
      ]
     },
     "execution_count": 64,
     "metadata": {},
     "output_type": "execute_result"
    }
   ],
   "source": [
    "setdict1.clear()\n",
    "setdict1"
   ]
  },
  {
   "cell_type": "code",
   "execution_count": 66,
   "id": "4c9726f2-7811-4b28-b58c-dbe17ca0e336",
   "metadata": {},
   "outputs": [
    {
     "data": {
      "text/plain": [
       "{'Name': 'Asif', 'ID': 12345, 'DOB': 1991, 'Address': 'Hilsinki'}"
      ]
     },
     "execution_count": 66,
     "metadata": {},
     "output_type": "execute_result"
    }
   ],
   "source": [
    "setdict1 = {'Name':'Asif' , 'ID': 12345 , 'DOB': 1991 , 'Address' : 'Hilsinki'} \n",
    "setdict1 "
   ]
  },
  {
   "cell_type": "code",
   "execution_count": 67,
   "id": "1b8e9c7b-cebe-4ec4-b47d-bfb61b0270e7",
   "metadata": {},
   "outputs": [
    {
     "name": "stdout",
     "output_type": "stream",
     "text": [
      "Name : Asif\n",
      "ID : 12345\n",
      "DOB : 1991\n",
      "Address : Hilsinki\n"
     ]
    }
   ],
   "source": [
    "for i in setdict1:\n",
    "    print(i,':',setdict1[i])# key &value pair"
   ]
  },
  {
   "cell_type": "code",
   "execution_count": 70,
   "id": "a936d7c7-432d-4d05-95f3-a32e2c24876d",
   "metadata": {},
   "outputs": [
    {
     "name": "stdout",
     "output_type": "stream",
     "text": [
      "Asif\n",
      "12345\n",
      "1991\n",
      "Hilsinki\n"
     ]
    }
   ],
   "source": [
    "for i in setdict1:\n",
    "    print(setdict1[i])#dictionary items"
   ]
  },
  {
   "cell_type": "code",
   "execution_count": 71,
   "id": "1371cd40-231c-4ba4-98ae-b9d8d496ec18",
   "metadata": {},
   "outputs": [
    {
     "data": {
      "text/plain": [
       "True"
      ]
     },
     "execution_count": 71,
     "metadata": {},
     "output_type": "execute_result"
    }
   ],
   "source": [
    "all(setdict1)"
   ]
  },
  {
   "cell_type": "code",
   "execution_count": 72,
   "id": "d9aaae18-f1dd-442f-be66-da05dcb85e8a",
   "metadata": {},
   "outputs": [
    {
     "data": {
      "text/plain": [
       "True"
      ]
     },
     "execution_count": 72,
     "metadata": {},
     "output_type": "execute_result"
    }
   ],
   "source": [
    "any(setdict1)"
   ]
  },
  {
   "cell_type": "code",
   "execution_count": 73,
   "id": "8b0e3612-7489-44b2-8402-e1538cbdeb75",
   "metadata": {},
   "outputs": [
    {
     "data": {
      "text/plain": [
       "{'Name': 'Asif', 'ID': 12345, 'DOB': 1991, 'Address': 'Hilsinki'}"
      ]
     },
     "execution_count": 73,
     "metadata": {},
     "output_type": "execute_result"
    }
   ],
   "source": [
    "setdict1"
   ]
  },
  {
   "cell_type": "code",
   "execution_count": 75,
   "id": "da82e032-731c-4a18-9af7-d74028399afa",
   "metadata": {},
   "outputs": [
    {
     "ename": "AttributeError",
     "evalue": "'dict' object has no attribute 'append'",
     "output_type": "error",
     "traceback": [
      "\u001b[1;31m---------------------------------------------------------------------------\u001b[0m",
      "\u001b[1;31mAttributeError\u001b[0m                            Traceback (most recent call last)",
      "Cell \u001b[1;32mIn[75], line 1\u001b[0m\n\u001b[1;32m----> 1\u001b[0m setdict1\u001b[38;5;241m.\u001b[39mappend(\u001b[38;5;241m0\u001b[39m)\n",
      "\u001b[1;31mAttributeError\u001b[0m: 'dict' object has no attribute 'append'"
     ]
    }
   ],
   "source": [
    "setdict1.append(0)"
   ]
  },
  {
   "cell_type": "code",
   "execution_count": 77,
   "id": "5e8dcbb7-299f-4f0b-aad5-4dc85ae23b2d",
   "metadata": {},
   "outputs": [
    {
     "data": {
      "text/plain": [
       "{'Name': 'Asif', 'ID': 12345, 'DOB': 1991, 'roll': 0, 'Job': 'Analyst'}"
      ]
     },
     "execution_count": 77,
     "metadata": {},
     "output_type": "execute_result"
    }
   ],
   "source": [
    "setdict1 = {'Name':'Asif' , 'ID': 12345 , 'DOB': 1991 ,'roll':0, 'Job': 'Analyst'}\n",
    "setdict1"
   ]
  },
  {
   "cell_type": "code",
   "execution_count": 78,
   "id": "83f75c30-55bd-4703-954a-48e620460607",
   "metadata": {},
   "outputs": [
    {
     "data": {
      "text/plain": [
       "True"
      ]
     },
     "execution_count": 78,
     "metadata": {},
     "output_type": "execute_result"
    }
   ],
   "source": [
    "any(setdict1)"
   ]
  },
  {
   "cell_type": "code",
   "execution_count": null,
   "id": "96a51a19-49fa-414f-92e1-a29bdfbc249e",
   "metadata": {},
   "outputs": [],
   "source": []
  }
 ],
 "metadata": {
  "kernelspec": {
   "display_name": "Python [conda env:base] *",
   "language": "python",
   "name": "conda-base-py"
  },
  "language_info": {
   "codemirror_mode": {
    "name": "ipython",
    "version": 3
   },
   "file_extension": ".py",
   "mimetype": "text/x-python",
   "name": "python",
   "nbconvert_exporter": "python",
   "pygments_lexer": "ipython3",
   "version": "3.12.7"
  }
 },
 "nbformat": 4,
 "nbformat_minor": 5
}
