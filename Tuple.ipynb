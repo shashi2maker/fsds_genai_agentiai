{
 "cells": [
  {
   "cell_type": "markdown",
   "id": "26379914-8e30-4e19-9166-2ec5cf16e0e0",
   "metadata": {},
   "source": [
    "# tuple"
   ]
  },
  {
   "cell_type": "code",
   "execution_count": 1,
   "id": "a50752af-a5e2-4ec1-9726-e4ec2faa4608",
   "metadata": {},
   "outputs": [
    {
     "data": {
      "text/plain": [
       "()"
      ]
     },
     "execution_count": 1,
     "metadata": {},
     "output_type": "execute_result"
    }
   ],
   "source": [
    "t=()\n",
    "t"
   ]
  },
  {
   "cell_type": "code",
   "execution_count": 3,
   "id": "4db16a10-7cd2-48b9-94c5-18a5db1cc18d",
   "metadata": {},
   "outputs": [
    {
     "data": {
      "text/plain": [
       "tuple"
      ]
     },
     "execution_count": 3,
     "metadata": {},
     "output_type": "execute_result"
    }
   ],
   "source": [
    "type(t)"
   ]
  },
  {
   "cell_type": "code",
   "execution_count": 4,
   "id": "53f1b7ef-54de-4958-942c-98e16b66d173",
   "metadata": {},
   "outputs": [
    {
     "data": {
      "text/plain": [
       "(10, 20, 30)"
      ]
     },
     "execution_count": 4,
     "metadata": {},
     "output_type": "execute_result"
    }
   ],
   "source": [
    "t1=(10,20,30)\n",
    "t1"
   ]
  },
  {
   "cell_type": "code",
   "execution_count": null,
   "id": "c1d9e24a-2d77-4d0f-a3fc-cdf38e43242a",
   "metadata": {},
   "outputs": [],
   "source": [
    "#t.count"
   ]
  },
  {
   "cell_type": "code",
   "execution_count": 5,
   "id": "ba4f501e-4c52-43e2-a98b-7a1b437e5762",
   "metadata": {},
   "outputs": [
    {
     "data": {
      "text/plain": [
       "1"
      ]
     },
     "execution_count": 5,
     "metadata": {},
     "output_type": "execute_result"
    }
   ],
   "source": [
    "t1.count(10)"
   ]
  },
  {
   "cell_type": "code",
   "execution_count": 6,
   "id": "ef3b9649-fe7e-43be-aaa7-7488ee60b0e2",
   "metadata": {},
   "outputs": [
    {
     "data": {
      "text/plain": [
       "1"
      ]
     },
     "execution_count": 6,
     "metadata": {},
     "output_type": "execute_result"
    }
   ],
   "source": [
    "t1.count(20)"
   ]
  },
  {
   "cell_type": "code",
   "execution_count": 7,
   "id": "cca2d873-6a42-409c-b989-c9c0eb20112e",
   "metadata": {},
   "outputs": [
    {
     "name": "stdout",
     "output_type": "stream",
     "text": [
      "10\n",
      "20\n",
      "30\n"
     ]
    }
   ],
   "source": [
    "for i in t1:\n",
    "    print(i)"
   ]
  },
  {
   "cell_type": "code",
   "execution_count": 8,
   "id": "5232b2af-ebb9-4295-b807-c82666110edc",
   "metadata": {},
   "outputs": [
    {
     "name": "stdout",
     "output_type": "stream",
     "text": [
      "(0, 10)\n",
      "(1, 20)\n",
      "(2, 30)\n"
     ]
    }
   ],
   "source": [
    "for i in enumerate(t1):\n",
    "    print(i)"
   ]
  },
  {
   "cell_type": "code",
   "execution_count": 10,
   "id": "3396a830-b8dc-4839-952c-5eb75100a70b",
   "metadata": {},
   "outputs": [
    {
     "data": {
      "text/plain": [
       "(10, 20, 30)"
      ]
     },
     "execution_count": 10,
     "metadata": {},
     "output_type": "execute_result"
    }
   ],
   "source": [
    "t1=(10,20,30)\n",
    "t1"
   ]
  },
  {
   "cell_type": "code",
   "execution_count": 11,
   "id": "67a61007-e501-4a47-aed7-492cccf8fc37",
   "metadata": {},
   "outputs": [
    {
     "data": {
      "text/plain": [
       "(10, 20, 30, 10, 20, 30, 10, 20, 30)"
      ]
     },
     "execution_count": 11,
     "metadata": {},
     "output_type": "execute_result"
    }
   ],
   "source": [
    "t2=t1*3\n",
    "t2"
   ]
  },
  {
   "cell_type": "code",
   "execution_count": null,
   "id": "6fdc3ca3-675a-4bf8-b1cb-27b961c8b724",
   "metadata": {},
   "outputs": [],
   "source": []
  },
  {
   "cell_type": "code",
   "execution_count": 12,
   "id": "fc36e692-eaa4-43d2-9525-414e8ba80ec3",
   "metadata": {},
   "outputs": [
    {
     "data": {
      "text/plain": [
       "(10, 20, 30, 10, 20, 30, 10, 20, 30)"
      ]
     },
     "execution_count": 12,
     "metadata": {},
     "output_type": "execute_result"
    }
   ],
   "source": [
    "t2=t1*3\n",
    "t2"
   ]
  },
  {
   "cell_type": "code",
   "execution_count": 23,
   "id": "40b296ed-08d8-444e-9f63-446b509287d3",
   "metadata": {},
   "outputs": [
    {
     "ename": "NameError",
     "evalue": "name 't2' is not defined",
     "output_type": "error",
     "traceback": [
      "\u001b[1;31m---------------------------------------------------------------------------\u001b[0m",
      "\u001b[1;31mNameError\u001b[0m                                 Traceback (most recent call last)",
      "Cell \u001b[1;32mIn[23], line 1\u001b[0m\n\u001b[1;32m----> 1\u001b[0m \u001b[38;5;28;01mdel\u001b[39;00m t2\n",
      "\u001b[1;31mNameError\u001b[0m: name 't2' is not defined"
     ]
    }
   ],
   "source": [
    "del t2"
   ]
  },
  {
   "cell_type": "code",
   "execution_count": 18,
   "id": "f3203eeb-280d-4553-8c61-e939f028b614",
   "metadata": {},
   "outputs": [
    {
     "data": {
      "text/plain": [
       "(5, 4, 3)"
      ]
     },
     "execution_count": 18,
     "metadata": {},
     "output_type": "execute_result"
    }
   ],
   "source": [
    "t3=(5,4,3)\n",
    "t3"
   ]
  },
  {
   "cell_type": "code",
   "execution_count": 22,
   "id": "1b478167-8041-418c-bdef-9d85827a5c2e",
   "metadata": {},
   "outputs": [
    {
     "ename": "NameError",
     "evalue": "name 't3' is not defined",
     "output_type": "error",
     "traceback": [
      "\u001b[1;31m---------------------------------------------------------------------------\u001b[0m",
      "\u001b[1;31mNameError\u001b[0m                                 Traceback (most recent call last)",
      "Cell \u001b[1;32mIn[22], line 1\u001b[0m\n\u001b[1;32m----> 1\u001b[0m \u001b[38;5;28;01mdel\u001b[39;00m t3\n\u001b[0;32m      2\u001b[0m \u001b[38;5;28mprint\u001b[39m(t3)\n",
      "\u001b[1;31mNameError\u001b[0m: name 't3' is not defined"
     ]
    }
   ],
   "source": [
    "del t3\n",
    "print(t3)"
   ]
  },
  {
   "cell_type": "code",
   "execution_count": 24,
   "id": "9e34d82f-0064-459a-9df0-38d8cf16ed1e",
   "metadata": {},
   "outputs": [
    {
     "data": {
      "text/plain": [
       "()"
      ]
     },
     "execution_count": 24,
     "metadata": {},
     "output_type": "execute_result"
    }
   ],
   "source": [
    "t"
   ]
  },
  {
   "cell_type": "code",
   "execution_count": 25,
   "id": "871ce33b-4881-4d7d-b2bd-efedfb0b8021",
   "metadata": {},
   "outputs": [
    {
     "data": {
      "text/plain": [
       "(10, 20, 30)"
      ]
     },
     "execution_count": 25,
     "metadata": {},
     "output_type": "execute_result"
    }
   ],
   "source": [
    "t1"
   ]
  },
  {
   "cell_type": "code",
   "execution_count": 26,
   "id": "326c9ccd-5525-4741-be5f-4c9ff9c8c238",
   "metadata": {},
   "outputs": [
    {
     "ename": "NameError",
     "evalue": "name 't2' is not defined",
     "output_type": "error",
     "traceback": [
      "\u001b[1;31m---------------------------------------------------------------------------\u001b[0m",
      "\u001b[1;31mNameError\u001b[0m                                 Traceback (most recent call last)",
      "Cell \u001b[1;32mIn[26], line 1\u001b[0m\n\u001b[1;32m----> 1\u001b[0m t2\n",
      "\u001b[1;31mNameError\u001b[0m: name 't2' is not defined"
     ]
    }
   ],
   "source": [
    "t2"
   ]
  },
  {
   "cell_type": "code",
   "execution_count": 27,
   "id": "f27ecaef-5a0b-4fc1-b059-3afb9e6f5644",
   "metadata": {},
   "outputs": [
    {
     "ename": "NameError",
     "evalue": "name 't3' is not defined",
     "output_type": "error",
     "traceback": [
      "\u001b[1;31m---------------------------------------------------------------------------\u001b[0m",
      "\u001b[1;31mNameError\u001b[0m                                 Traceback (most recent call last)",
      "Cell \u001b[1;32mIn[27], line 1\u001b[0m\n\u001b[1;32m----> 1\u001b[0m t3\n",
      "\u001b[1;31mNameError\u001b[0m: name 't3' is not defined"
     ]
    }
   ],
   "source": [
    "t3"
   ]
  },
  {
   "cell_type": "code",
   "execution_count": null,
   "id": "05797257-ce71-468a-a323-a243fe9c4ffa",
   "metadata": {},
   "outputs": [],
   "source": [
    "# count"
   ]
  },
  {
   "cell_type": "code",
   "execution_count": 32,
   "id": "6cba1423-cdca-4b58-a17f-d904d8080840",
   "metadata": {},
   "outputs": [
    {
     "data": {
      "text/plain": [
       "('one', 'two', 'three', 'four', 'one', 'two', 'three', 'one')"
      ]
     },
     "execution_count": 32,
     "metadata": {},
     "output_type": "execute_result"
    }
   ],
   "source": [
    "t4=('one','two','three','four','one','two','three','one')\n",
    "t4"
   ]
  },
  {
   "cell_type": "code",
   "execution_count": 33,
   "id": "bd7374cd-847a-4007-8a88-a585804de8b6",
   "metadata": {},
   "outputs": [
    {
     "data": {
      "text/plain": [
       "3"
      ]
     },
     "execution_count": 33,
     "metadata": {},
     "output_type": "execute_result"
    }
   ],
   "source": [
    "t4.count('one')"
   ]
  },
  {
   "cell_type": "code",
   "execution_count": 34,
   "id": "b3d082d4-7ad7-4fdf-8a02-d828bb7b82cc",
   "metadata": {},
   "outputs": [
    {
     "data": {
      "text/plain": [
       "2"
      ]
     },
     "execution_count": 34,
     "metadata": {},
     "output_type": "execute_result"
    }
   ],
   "source": [
    "t4.count('two')"
   ]
  },
  {
   "cell_type": "code",
   "execution_count": 35,
   "id": "522aba86-0896-4b75-9d19-70c96ee0674e",
   "metadata": {},
   "outputs": [
    {
     "data": {
      "text/plain": [
       "2"
      ]
     },
     "execution_count": 35,
     "metadata": {},
     "output_type": "execute_result"
    }
   ],
   "source": [
    "t4.count('three')"
   ]
  },
  {
   "cell_type": "code",
   "execution_count": 36,
   "id": "c9e4d954-3f73-49d6-b0c9-ccc6cea97a3b",
   "metadata": {},
   "outputs": [
    {
     "data": {
      "text/plain": [
       "1"
      ]
     },
     "execution_count": 36,
     "metadata": {},
     "output_type": "execute_result"
    }
   ],
   "source": [
    "t4.count('four')"
   ]
  },
  {
   "cell_type": "code",
   "execution_count": null,
   "id": "319d7fff-db59-47bf-aeb5-94e31bafbfc9",
   "metadata": {},
   "outputs": [],
   "source": [
    "#tuple membership"
   ]
  },
  {
   "cell_type": "code",
   "execution_count": 37,
   "id": "a2fd60f3-1a20-4573-8921-504b3e003e45",
   "metadata": {},
   "outputs": [
    {
     "data": {
      "text/plain": [
       "('one', 'two', 'three', 'four', 'one', 'two', 'three', 'one')"
      ]
     },
     "execution_count": 37,
     "metadata": {},
     "output_type": "execute_result"
    }
   ],
   "source": [
    "t4"
   ]
  },
  {
   "cell_type": "code",
   "execution_count": 38,
   "id": "d2e8f402-066d-456b-970e-32773f7532e0",
   "metadata": {},
   "outputs": [
    {
     "data": {
      "text/plain": [
       "True"
      ]
     },
     "execution_count": 38,
     "metadata": {},
     "output_type": "execute_result"
    }
   ],
   "source": [
    "'one'in t4  # Check if 'one' exist in the list"
   ]
  },
  {
   "cell_type": "code",
   "execution_count": 39,
   "id": "d3ec2698-ebe4-4b3f-bda4-b9cdde0fbd39",
   "metadata": {},
   "outputs": [
    {
     "data": {
      "text/plain": [
       "False"
      ]
     },
     "execution_count": 39,
     "metadata": {},
     "output_type": "execute_result"
    }
   ],
   "source": [
    "'ten'in t4  # Check if 'ten' exist in the list"
   ]
  },
  {
   "cell_type": "code",
   "execution_count": 40,
   "id": "8fcd50f6-0819-4b76-bd61-a7cdecdd7d2d",
   "metadata": {},
   "outputs": [
    {
     "data": {
      "text/plain": [
       "False"
      ]
     },
     "execution_count": 40,
     "metadata": {},
     "output_type": "execute_result"
    }
   ],
   "source": [
    "'eight'in t4  # Check if 'eight' exist in the list"
   ]
  },
  {
   "cell_type": "code",
   "execution_count": 44,
   "id": "e1deb5ef-711a-4a99-9eca-1388ec0c76a4",
   "metadata": {},
   "outputs": [
    {
     "name": "stdout",
     "output_type": "stream",
     "text": [
      "three is present in the tuple\n"
     ]
    }
   ],
   "source": [
    "if 'three' in t4:  # Check if 'three' exist in the list\n",
    "    print('three is present in the tuple')\n",
    "else:\n",
    "    print('three is not present in the tuble')"
   ]
  },
  {
   "cell_type": "code",
   "execution_count": 45,
   "id": "3a474623-a0cc-4f90-96da-c03f43dde1e2",
   "metadata": {},
   "outputs": [
    {
     "name": "stdout",
     "output_type": "stream",
     "text": [
      "eleven is not present in the tuble\n"
     ]
    }
   ],
   "source": [
    "if 'eleven' in t4:  # Check if 'eleven' exist in the list\n",
    "    print('eleven is present in the tuple')\n",
    "else:\n",
    "    print('eleven is not present in the tuble')"
   ]
  },
  {
   "cell_type": "code",
   "execution_count": 47,
   "id": "140467cf-6870-48ad-9bb2-926d5feca114",
   "metadata": {},
   "outputs": [
    {
     "name": "stdout",
     "output_type": "stream",
     "text": [
      "six is not present in the tuble\n"
     ]
    }
   ],
   "source": [
    "if 'six' in t4:  # Check if 'six' exist in the list\n",
    "    print('six is present in the tuple')\n",
    "else:\n",
    "    print('six is not present in the tuble')"
   ]
  },
  {
   "cell_type": "code",
   "execution_count": null,
   "id": "507d82c0-f2c3-42ca-9e97-cc06552f2937",
   "metadata": {},
   "outputs": [],
   "source": [
    "# index position"
   ]
  },
  {
   "cell_type": "code",
   "execution_count": 50,
   "id": "22335d79-85df-45b5-bf7b-286418d3b150",
   "metadata": {},
   "outputs": [
    {
     "data": {
      "text/plain": [
       "('one', 'two', 'three', 'four', 'five', 'six', 'seven', 'eight')"
      ]
     },
     "execution_count": 50,
     "metadata": {},
     "output_type": "execute_result"
    }
   ],
   "source": [
    "t5= ('one', 'two', 'three', 'four', 'five', 'six', 'seven', 'eight' )\n",
    "t5"
   ]
  },
  {
   "cell_type": "code",
   "execution_count": 51,
   "id": "a5b7af26-593d-4704-8713-ece4f10b81ab",
   "metadata": {},
   "outputs": [
    {
     "data": {
      "text/plain": [
       "0"
      ]
     },
     "execution_count": 51,
     "metadata": {},
     "output_type": "execute_result"
    }
   ],
   "source": [
    "t5.index('one')  # Index of first element equal to 'one' "
   ]
  },
  {
   "cell_type": "code",
   "execution_count": 53,
   "id": "a1adf84a-8cfb-4dcf-897b-733665169e03",
   "metadata": {},
   "outputs": [
    {
     "data": {
      "text/plain": [
       "4"
      ]
     },
     "execution_count": 53,
     "metadata": {},
     "output_type": "execute_result"
    }
   ],
   "source": [
    "t5.index('five') # Index of first element equal to 'five'"
   ]
  },
  {
   "cell_type": "code",
   "execution_count": 54,
   "id": "b9955021-4e41-4a50-9c03-ec8dad337e1b",
   "metadata": {},
   "outputs": [
    {
     "data": {
      "text/plain": [
       "7"
      ]
     },
     "execution_count": 54,
     "metadata": {},
     "output_type": "execute_result"
    }
   ],
   "source": [
    "t5.index('eight') # Index of first element equal to 'eight"
   ]
  },
  {
   "cell_type": "code",
   "execution_count": null,
   "id": "7e67f787-4744-40a5-a6f4-29592a679547",
   "metadata": {},
   "outputs": [],
   "source": [
    "# sorting"
   ]
  },
  {
   "cell_type": "code",
   "execution_count": 55,
   "id": "371f23a0-aa50-4ff1-b5e7-38376d042454",
   "metadata": {},
   "outputs": [
    {
     "data": {
      "text/plain": [
       "(43, 69, 99, 33, 2, 33, 55)"
      ]
     },
     "execution_count": 55,
     "metadata": {},
     "output_type": "execute_result"
    }
   ],
   "source": [
    "t6=(43,69,99,33,2,33,55)\n",
    "t6"
   ]
  },
  {
   "cell_type": "code",
   "execution_count": 57,
   "id": "5d006d96-556b-424d-8a70-8d0119ee9c3f",
   "metadata": {},
   "outputs": [
    {
     "data": {
      "text/plain": [
       "[2, 33, 33, 43, 55, 69, 99]"
      ]
     },
     "execution_count": 57,
     "metadata": {},
     "output_type": "execute_result"
    }
   ],
   "source": [
    "sorted(t6)"
   ]
  },
  {
   "cell_type": "code",
   "execution_count": 59,
   "id": "a7e525b0-75ed-4f9b-813a-838bbf849136",
   "metadata": {},
   "outputs": [
    {
     "data": {
      "text/plain": [
       "[99, 69, 55, 43, 33, 33, 2]"
      ]
     },
     "execution_count": 59,
     "metadata": {},
     "output_type": "execute_result"
    }
   ],
   "source": [
    "sorted(t6,reverse=True)"
   ]
  },
  {
   "cell_type": "code",
   "execution_count": 61,
   "id": "156de454-33cb-496b-a96a-3c2943427385",
   "metadata": {},
   "outputs": [
    {
     "data": {
      "text/plain": [
       "[2, 33, 33, 43, 55, 69, 99]"
      ]
     },
     "execution_count": 61,
     "metadata": {},
     "output_type": "execute_result"
    }
   ],
   "source": [
    "sorted(t6)"
   ]
  },
  {
   "cell_type": "code",
   "execution_count": null,
   "id": "70ac8afe-c038-4b32-a0db-20691c8e2080",
   "metadata": {},
   "outputs": [],
   "source": []
  }
 ],
 "metadata": {
  "kernelspec": {
   "display_name": "Python [conda env:base] *",
   "language": "python",
   "name": "conda-base-py"
  },
  "language_info": {
   "codemirror_mode": {
    "name": "ipython",
    "version": 3
   },
   "file_extension": ".py",
   "mimetype": "text/x-python",
   "name": "python",
   "nbconvert_exporter": "python",
   "pygments_lexer": "ipython3",
   "version": "3.12.7"
  }
 },
 "nbformat": 4,
 "nbformat_minor": 5
}
